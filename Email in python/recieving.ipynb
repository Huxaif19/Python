{
 "cells": [
  {
   "cell_type": "code",
   "execution_count": 1,
   "metadata": {},
   "outputs": [],
   "source": [
    "import imaplib"
   ]
  },
  {
   "cell_type": "code",
   "execution_count": 2,
   "metadata": {},
   "outputs": [],
   "source": [
    "M = imaplib.IMAP4_SSL(\"imap.gmail.com\")"
   ]
  },
  {
   "cell_type": "code",
   "execution_count": 3,
   "metadata": {},
   "outputs": [],
   "source": [
    "import getpass"
   ]
  },
  {
   "cell_type": "code",
   "execution_count": 4,
   "metadata": {},
   "outputs": [],
   "source": [
    "email = getpass.getpass(\"email: \")\n",
    "password = getpass.getpass('password :')"
   ]
  },
  {
   "cell_type": "code",
   "execution_count": 5,
   "metadata": {},
   "outputs": [
    {
     "data": {
      "text/plain": [
       "('OK', [b'xehrabatool121@gmail.com authenticated (Success)'])"
      ]
     },
     "execution_count": 5,
     "metadata": {},
     "output_type": "execute_result"
    }
   ],
   "source": [
    "M.login(email, password)"
   ]
  },
  {
   "cell_type": "code",
   "execution_count": 7,
   "metadata": {},
   "outputs": [
    {
     "data": {
      "text/plain": [
       "('OK',\n",
       " [b'(\\\\HasNoChildren) \"/\" \"INBOX\"',\n",
       "  b'(\\\\HasChildren \\\\Noselect) \"/\" \"[Gmail]\"',\n",
       "  b'(\\\\All \\\\HasNoChildren) \"/\" \"[Gmail]/All Mail\"',\n",
       "  b'(\\\\HasNoChildren \\\\Trash) \"/\" \"[Gmail]/Bin\"',\n",
       "  b'(\\\\Drafts \\\\HasNoChildren) \"/\" \"[Gmail]/Drafts\"',\n",
       "  b'(\\\\HasNoChildren \\\\Important) \"/\" \"[Gmail]/Important\"',\n",
       "  b'(\\\\HasNoChildren \\\\Sent) \"/\" \"[Gmail]/Sent Mail\"',\n",
       "  b'(\\\\HasNoChildren \\\\Junk) \"/\" \"[Gmail]/Spam\"',\n",
       "  b'(\\\\Flagged \\\\HasNoChildren) \"/\" \"[Gmail]/Starred\"'])"
      ]
     },
     "execution_count": 7,
     "metadata": {},
     "output_type": "execute_result"
    }
   ],
   "source": [
    "M.list()"
   ]
  },
  {
   "cell_type": "code",
   "execution_count": 9,
   "metadata": {},
   "outputs": [
    {
     "data": {
      "text/plain": [
       "('OK', [b'4202'])"
      ]
     },
     "execution_count": 9,
     "metadata": {},
     "output_type": "execute_result"
    }
   ],
   "source": [
    "M.select('inbox')"
   ]
  },
  {
   "cell_type": "code",
   "execution_count": 13,
   "metadata": {},
   "outputs": [],
   "source": [
    "typ , data = M.search(None, 'SUBJECT \"this is to text python imaplib\"')"
   ]
  },
  {
   "cell_type": "code",
   "execution_count": 14,
   "metadata": {},
   "outputs": [
    {
     "data": {
      "text/plain": [
       "'OK'"
      ]
     },
     "execution_count": 14,
     "metadata": {},
     "output_type": "execute_result"
    }
   ],
   "source": [
    "typ"
   ]
  },
  {
   "cell_type": "code",
   "execution_count": 15,
   "metadata": {},
   "outputs": [
    {
     "data": {
      "text/plain": [
       "[b'4202']"
      ]
     },
     "execution_count": 15,
     "metadata": {},
     "output_type": "execute_result"
    }
   ],
   "source": [
    "data"
   ]
  },
  {
   "cell_type": "code",
   "execution_count": 17,
   "metadata": {},
   "outputs": [],
   "source": [
    "email_id = data[0]"
   ]
  },
  {
   "cell_type": "code",
   "execution_count": 19,
   "metadata": {},
   "outputs": [],
   "source": [
    "result, email_data = M.fetch(email_id,'(RFC822)')"
   ]
  },
  {
   "cell_type": "code",
   "execution_count": 20,
   "metadata": {},
   "outputs": [
    {
     "data": {
      "text/plain": [
       "[(b'4202 (RFC822 {11319}',\n",
       "  b'Delivered-To: xehrabatool121@gmail.com\\r\\nReceived: by 2002:a05:7000:5514:b0:4ad:9775:f27b with SMTP id e20csp392122mah;\\r\\n        Thu, 8 Jun 2023 08:23:33 -0700 (PDT)\\r\\nX-Google-Smtp-Source: ACHHUZ5HbsaONNO8f/q1PFxGYm0DQvSvy9eVlShQCBmTzWkd93wk/Qk0eNvcr9+E9VORaRoVmzg8\\r\\nX-Received: by 2002:a17:902:db0e:b0:1ad:fc06:d7c0 with SMTP id m14-20020a170902db0e00b001adfc06d7c0mr5583032plx.1.1686237813433;\\r\\n        Thu, 08 Jun 2023 08:23:33 -0700 (PDT)\\r\\nARC-Seal: i=2; a=rsa-sha256; t=1686237813; cv=pass;\\r\\n        d=google.com; s=arc-20160816;\\r\\n        b=Vq3Qkv3o3x9QKUr55WJJIjrS32pOShvcVyiRzfSsNPJir11Y6CS66kmwJHmrz/+eMa\\r\\n         sm8ys53vIFFXb8td9eJgE+HsXECjxpDyRWYcdClSMYmTsk3bbv7tfr7ETg0nQv+bD/v3\\r\\n         07v5FwVp2DuSksfDSrkIL+Q86SQ7orpDmHE45kWsSz4FWFF8Dj7YiFqR3u0tldRDzBBv\\r\\n         lNyt7/RHrTvJsjPz+4SvGcIkSx6k8X1aec4D4jF1+ozbXeuWLXE0nZNCJ6o3BXKNfQd0\\r\\n         6qGFZH/466vLvrrpjzwgeCw6eTdwGX8k0CjcxvDJUg99dijN614Tdp2vReLjgbUYAywz\\r\\n         xsYA==\\r\\nARC-Message-Signature: i=2; a=rsa-sha256; c=relaxed/relaxed; d=google.com; s=arc-20160816;\\r\\n        h=mime-version:content-language:accept-language:message-id:date\\r\\n         :thread-index:thread-topic:subject:to:from:dkim-signature;\\r\\n        bh=HEtHOQ7POp+k2sq5dZqbxSgtmIxDVJrpPxZwObq8ePI=;\\r\\n        b=LAkumDa+hYApP/I7I0qrolmUuw+ImDPgF14fP5teF8cpla9WScnbR307NQL6fABDFR\\r\\n         GDS7LcPUm89kAI177OYT06w43B4Pe3Ryn3e/Yuh1Y1hWKTXUQane4aBiix+lRsCCKABK\\r\\n         afdJzhG67zze+D7krWZxHel1/dF/oxrQSpDNkU6bao5B9bBo6P5XJRQQQopJwmqBuKgR\\r\\n         15YNcU4koamCCot5nH2hwKLq2LYEP8QZU4i2NWmZzSBp/rKHOof58dpsqxyhb5QEaXOh\\r\\n         NBBMIemvrqiVKZ9lhnuEOSzDjv6TJWYwV4FfyaOCS+3ASzZZLgmE2zpYmXWUD3MUwA9N\\r\\n         tmlA==\\r\\nARC-Authentication-Results: i=2; mx.google.com;\\r\\n       dkim=pass header.i=@hotmail.com header.s=selector1 header.b=JUDUGEp+;\\r\\n       arc=pass (i=1);\\r\\n       spf=pass (google.com: domain of shahhuxaif121@hotmail.com designates 2a01:111:f400:feae::809 as permitted sender) smtp.mailfrom=shahhuxaif121@hotmail.com;\\r\\n       dmarc=pass (p=NONE sp=NONE dis=NONE) header.from=hotmail.com\\r\\nReturn-Path: <shahhuxaif121@hotmail.com>\\r\\nReceived: from APC01-PSA-obe.outbound.protection.outlook.com (mail-psaapc01acsn20809.outbound.protection.outlook.com. [2a01:111:f400:feae::809])\\r\\n        by mx.google.com with ESMTPS id q20-20020a170902e31400b001ab2a0e3163si1154389plc.598.2023.06.08.08.23.33\\r\\n        for <xehrabatool121@gmail.com>\\r\\n        (version=TLS1_2 cipher=ECDHE-ECDSA-AES128-GCM-SHA256 bits=128/128);\\r\\n        Thu, 08 Jun 2023 08:23:33 -0700 (PDT)\\r\\nReceived-SPF: pass (google.com: domain of shahhuxaif121@hotmail.com designates 2a01:111:f400:feae::809 as permitted sender) client-ip=2a01:111:f400:feae::809;\\r\\nAuthentication-Results: mx.google.com;\\r\\n       dkim=pass header.i=@hotmail.com header.s=selector1 header.b=JUDUGEp+;\\r\\n       arc=pass (i=1);\\r\\n       spf=pass (google.com: domain of shahhuxaif121@hotmail.com designates 2a01:111:f400:feae::809 as permitted sender) smtp.mailfrom=shahhuxaif121@hotmail.com;\\r\\n       dmarc=pass (p=NONE sp=NONE dis=NONE) header.from=hotmail.com\\r\\nARC-Seal: i=1; a=rsa-sha256; s=arcselector9901; d=microsoft.com; cv=none;\\r\\n b=mTT8ytMDS/f3LU0qriZZXL8tI9sfiR8J52iQESq9+gviBCS9dRyU2BoikUI8cwe7R6UMvnAj1P+PbtYhvlV6nzKaY+W4Bj6zHtVBl9CCvzLv+G466ThbiZkK0ibqYEo4yivZWlKK52pHJPDINzbDe6wa5eWc/La/wLjWmvAOCC5NBnFMBNtFc6NShCS+UgDmZPmmF8osKWpCysm0+LCED1wbtX+LDMfrHuRAkEzHOMcyfLM8TQRDRA/BTe/e0UmXJ5rySzM/kvlHlEmK0OFjbt4SsSfD8WcTCuP11QhTtPUCGwsBp5kOcDuhSZJwNSjXkK+Q2RYPvz7VCF6VWW9VyA==\\r\\nARC-Message-Signature: i=1; a=rsa-sha256; c=relaxed/relaxed; d=microsoft.com;\\r\\n s=arcselector9901;\\r\\n h=From:Date:Subject:Message-ID:Content-Type:MIME-Version:X-MS-Exchange-AntiSpam-MessageData-ChunkCount:X-MS-Exchange-AntiSpam-MessageData-0:X-MS-Exchange-AntiSpam-MessageData-1;\\r\\n bh=HEtHOQ7POp+k2sq5dZqbxSgtmIxDVJrpPxZwObq8ePI=;\\r\\n b=IEbU7g7iZ+/LuOlFQOU+PdZKAJq2A5BkTIr3bbllzOH2KyPT8ptPtJXsUIla+A6W+d4X8szG3wKkOxMJMJmg0U6Mp4FfnLoY4Q/IVV8BHeyjuA0ozrtQTOo5WFnWqGp437Q04xsjwtH4Bbo9kKwzYiPPLHOv4/mxqoQHDlK2XcZPv3qPDlwhw0F3VJLdjKHDyX0JPUdQwq+T/YvfwAp6+/HaPr+/ujCK2KWV1MqHjVlsSsb+cW+82+wPmB5Ne5NjA6LrOJn4Nw7PmJ/OUhR48V6LBLYasAGKjvH07x1ZNhUnqNBVjApLjVflcWQLmt8dI8L95XIrHJWFaAZBLMV5kA==\\r\\nARC-Authentication-Results: i=1; mx.microsoft.com 1; spf=none; dmarc=none;\\r\\n dkim=none; arc=none\\r\\nDKIM-Signature: v=1; a=rsa-sha256; c=relaxed/relaxed; d=hotmail.com;\\r\\n s=selector1;\\r\\n h=From:Date:Subject:Message-ID:Content-Type:MIME-Version:X-MS-Exchange-SenderADCheck;\\r\\n bh=HEtHOQ7POp+k2sq5dZqbxSgtmIxDVJrpPxZwObq8ePI=;\\r\\n b=JUDUGEp+rriuYHFdRtfQU1ZbDQJ8i8D2aZWhitvxqb1bdmdZi9OFufqiojeuky/60PvE1jLsA30ZKbAleKlmvxvQTcSJfBtuNZBv7Cmdk6XuuG/7nLaRjkAj86nD+D3dXKtYAvVJUvEWBC0KOUrlF9Y8oHoZBGA68O24SezqnePfA0ZuWfJU6lhAM7h2gM+IYA17RiLOD2LGqwVe0HNMCYkGh2A506Wz3nKQku8w6Jy+mdd1DwhYy0b20cMnNndCFWWO20wU1sGOC4db8y42Y/49NrF4cUvIbPILQXW2VGGvjORjeRMR5MRANrrL9cwKMO9+1fiMgy9uReYdr4Cjpw==\\r\\nReceived: from TYUPR01MB5202.apcprd01.prod.exchangelabs.com\\r\\n (2603:1096:400:350::10) by PSBPR01MB3672.apcprd01.prod.exchangelabs.com\\r\\n (2603:1096:301:f::10) with Microsoft SMTP Server (version=TLS1_2,\\r\\n cipher=TLS_ECDHE_RSA_WITH_AES_256_GCM_SHA384) id 15.20.6455.33; Thu, 8 Jun\\r\\n 2023 15:23:30 +0000\\r\\nReceived: from TYUPR01MB5202.apcprd01.prod.exchangelabs.com\\r\\n ([fe80::7d9a:2762:cb8b:ec88]) by TYUPR01MB5202.apcprd01.prod.exchangelabs.com\\r\\n ([fe80::7d9a:2762:cb8b:ec88%7]) with mapi id 15.20.6455.030; Thu, 8 Jun 2023\\r\\n 15:23:30 +0000\\r\\nFrom: shah huxaif <shahhuxaif121@hotmail.com>\\r\\nTo: \"xehrabatool121@gmail.com\" <xehrabatool121@gmail.com>\\r\\nSubject: this is to text python imaplib\\r\\nThread-Topic: this is to text python imaplib\\r\\nThread-Index: AQHZmh0V4ApFNBT17ECSck4GKxWv8w==\\r\\nDate: Thu, 8 Jun 2023 15:23:30 +0000\\r\\nMessage-ID:\\r\\n <TYUPR01MB5202400B3A85F0FA46C00ED0E450A@TYUPR01MB5202.apcprd01.prod.exchangelabs.com>\\r\\nAccept-Language: en-US, en-GB\\r\\nContent-Language: en-US\\r\\nX-MS-Has-Attach:\\r\\nX-MS-TNEF-Correlator:\\r\\nx-tmn: [OV2IG6PGiIi1BnAGaKEjWZAq8+0xcJNg]\\r\\nx-ms-publictraffictype: Email\\r\\nx-ms-traffictypediagnostic: TYUPR01MB5202:EE_|PSBPR01MB3672:EE_\\r\\nx-ms-office365-filtering-correlation-id: efbfeada-b2ed-4247-baef-08db683450a1\\r\\nx-microsoft-antispam: BCL:0;\\r\\nx-microsoft-antispam-message-info:\\r\\n qSrsCLCjZeeo8lGZ8aigS90ZmDLf1uclTHZGmP2E4fq2xLN4l6WNqCBKhqLdSe73qHz2t5PXh9gFL2kB+fm1ZE7eYhxtsly/sirxyVtvbuhC7ckGTygtcXsQ28YZWWidl3Rg5fijl2FoyPFQqWCIVkaRAOTVXwwAz99IDPFgjL991U/PjmIsqO8+FBFnIj7R481E2w6qjdit6vX6Mnje25WiZB7EeE9pNwo7qH5IO9OfJIC14RjXu5O3Md3VE3aj8KnQREyLJMHW2EERHT7f2rbHDw/MA9oU2LdAxZEK/2WbZ1nGOrHSa2XTttnYrnavPJ1VedD7p54sp7nQIE+rdJiyu8l4MgigIFqKRYa5Gg7Sbb9LGjAWvXS4jtlBozV2UWe9vLsIa7HZf+43oXRtu2IRoEbqCzYL82CM+ipqfzgTiA0g8MgmeZvMP1Fq/qurLO84FtstM7wEtKSb/OXbTEliF42rUZbgZzjckgSX8CecAnVX81ypGy8toCp/8kqWzdX5tH9NHGIWg5tcdL/i27azYfSNf54lKpCYWaRon/iWWLKjnLN8+7mG6LshsAWnzwPjjVP7uH1tLEfpLDpvAZFibtS4y+xTJpd4jbet6i0=\\r\\nx-ms-exchange-antispam-messagedata-chunkcount: 1\\r\\nx-ms-exchange-antispam-messagedata-0:\\r\\n =?us-ascii?Q?LFOPYo1qhCSztNn2k+nFwZwmFu3hAd8ZSkfGDyhIJAuOrAu6dE3yCm8oymwZ?=\\r\\n =?us-ascii?Q?WSNwgDMN549bUISnftfGoowTmKUzeAXS4wUcQMGoyecXR9npS7MBzCCnacyy?=\\r\\n =?us-ascii?Q?vr9JxNL+uq60ETdCTNQex2188iWj3Xp4sU0uQAkxH+O2zuZmPgfCxS498HCI?=\\r\\n =?us-ascii?Q?NVZZPLVELgsxrwk6Ccarxc+YuO5J59ERAzcuau95xbJm1I1OJZPn75g8rYVU?=\\r\\n =?us-ascii?Q?Nn+klrOnA7+MOHdSqH3IHMlI3LfT+9Hu54lVsRr6KZs2hE44BGzRrx+WoJUA?=\\r\\n =?us-ascii?Q?2NiWN3kfjTl1qUgEJRdcxA7eDATUvj8ru+haKC8CbIAw1MT6QuHonHWM+xb2?=\\r\\n =?us-ascii?Q?Ffrc72/Cmu/PIFUGXvKl4hIHBisdz2i7nMVu8YK6EDqL5mI3XSF9Vv4XNh/W?=\\r\\n =?us-ascii?Q?GnWagJV+vLwR4BoYt+rTOQPoPs5bjklkuzw3vBV5aJYrfppXev9oIhBBmZZW?=\\r\\n =?us-ascii?Q?Uznk4N1MA51jicLHp9JjKYU8NsEOhuui5ur8gg5UHX820KQwH0x+Hk2cuDjk?=\\r\\n =?us-ascii?Q?og9MbpPj7rPbA6w15GhnFmA7WhpYgYL7120RnWzhyjTw9agy08vBx2roNFL4?=\\r\\n =?us-ascii?Q?JoaYHusDbruBZfxmWRY1S+F70W4puGObhrpqQK2qBAdX+Gq1e8N0xpEqAz59?=\\r\\n =?us-ascii?Q?OHVaeqBWkmPGitAO4GFRKIycvI6zDdvBaK3H1ISJWUrCifGsEXnbBk3kH9GX?=\\r\\n =?us-ascii?Q?KuxptDJYt3z90X4nzFChDlm0wrkkLlTx/uZD5W+UsW7sw427KbjXk+yJ/Sou?=\\r\\n =?us-ascii?Q?nQ92Wsi/gs8Xlu+mew1F5ubJWhoDRmYVQ0z45q9YmrwLvUwgkLTGa8wJIolw?=\\r\\n =?us-ascii?Q?9YD0A/4aHVYSQK7BzQvohr7iPawZ2qMAAFuYmHyCoP0sDBgENnuTznldkkbB?=\\r\\n =?us-ascii?Q?sDat+DMKCW3Q6K6tbH61hQy+t2A4MPOM9CeXDwZpedPeiftB3P0dq2FiB5Cr?=\\r\\n =?us-ascii?Q?3aKWqE+RGnCbXNcCOu8MVjTY1yxteAnXQ7e4uT9e/kfKiAOXq59MoZx89VnN?=\\r\\n =?us-ascii?Q?F1P0CIJFbbfa7KHpPLVGx/yK3Hcd+BgD1VjWGh/swHyZKzr0vSM9fbFOESz/?=\\r\\n =?us-ascii?Q?5cCAai224vsRELVvkAid34BUSH7+K61lehNFxxCVPett1dBefEaxFeq0xoGp?=\\r\\n =?us-ascii?Q?E7vf6Bfzhvkgngn56acl3XZDvtD5wl/tJx2YfWy7GtKCsc2Dx144Y357qWHv?=\\r\\n =?us-ascii?Q?sLZHqkBxKXoLRsrY+ClQ8CeneSwWlTBD/AK6e2hH1AUaceyDg7kwvCyNL8Oi?=\\r\\n =?us-ascii?Q?JegfFXJhgh933Zoaj2rM?=\\r\\nContent-Type: multipart/alternative;\\r\\n\\tboundary=\"_000_TYUPR01MB5202400B3A85F0FA46C00ED0E450ATYUPR01MB5202apcp_\"\\r\\nMIME-Version: 1.0\\r\\nX-OriginatorOrg: sct-15-20-4755-11-msonline-outlook-d8e84.templateTenant\\r\\nX-MS-Exchange-CrossTenant-AuthAs: Internal\\r\\nX-MS-Exchange-CrossTenant-AuthSource: TYUPR01MB5202.apcprd01.prod.exchangelabs.com\\r\\nX-MS-Exchange-CrossTenant-RMS-PersistedConsumerOrg: 00000000-0000-0000-0000-000000000000\\r\\nX-MS-Exchange-CrossTenant-Network-Message-Id: efbfeada-b2ed-4247-baef-08db683450a1\\r\\nX-MS-Exchange-CrossTenant-originalarrivaltime: 08 Jun 2023 15:23:30.3114\\r\\n (UTC)\\r\\nX-MS-Exchange-CrossTenant-fromentityheader: Hosted\\r\\nX-MS-Exchange-CrossTenant-id: 84df9e7f-e9f6-40af-b435-aaaaaaaaaaaa\\r\\nX-MS-Exchange-CrossTenant-rms-persistedconsumerorg: 00000000-0000-0000-0000-000000000000\\r\\nX-MS-Exchange-Transport-CrossTenantHeadersStamped: PSBPR01MB3672\\r\\n\\r\\n--_000_TYUPR01MB5202400B3A85F0FA46C00ED0E450ATYUPR01MB5202apcp_\\r\\nContent-Type: text/plain; charset=\"us-ascii\"\\r\\nContent-Transfer-Encoding: quoted-printable\\r\\n\\r\\nHello world this is imaplib\\r\\n\\r\\n\\r\\nSent from Mail<https://go.microsoft.com/fwlink/?LinkId=3D550986> for Window=\\r\\ns\\r\\n\\r\\n\\r\\n--_000_TYUPR01MB5202400B3A85F0FA46C00ED0E450ATYUPR01MB5202apcp_\\r\\nContent-Type: text/html; charset=\"us-ascii\"\\r\\nContent-Transfer-Encoding: quoted-printable\\r\\n\\r\\n<html xmlns:o=3D\"urn:schemas-microsoft-com:office:office\" xmlns:w=3D\"urn:sc=\\r\\nhemas-microsoft-com:office:word\" xmlns:m=3D\"http://schemas.microsoft.com/of=\\r\\nfice/2004/12/omml\" xmlns=3D\"http://www.w3.org/TR/REC-html40\">\\r\\n<head>\\r\\n<meta http-equiv=3D\"Content-Type\" content=3D\"text/html; charset=3Dus-ascii\"=\\r\\n>\\r\\n<meta name=3D\"Generator\" content=3D\"Microsoft Word 15 (filtered medium)\">\\r\\n<style><!--\\r\\n/* Font Definitions */\\r\\n@font-face\\r\\n\\t{font-family:\"Cambria Math\";\\r\\n\\tpanose-1:2 4 5 3 5 4 6 3 2 4;}\\r\\n@font-face\\r\\n\\t{font-family:Calibri;\\r\\n\\tpanose-1:2 15 5 2 2 2 4 3 2 4;}\\r\\n/* Style Definitions */\\r\\np.MsoNormal, li.MsoNormal, div.MsoNormal\\r\\n\\t{margin:0in;\\r\\n\\tfont-size:11.0pt;\\r\\n\\tfont-family:\"Calibri\",sans-serif;}\\r\\na:link, span.MsoHyperlink\\r\\n\\t{mso-style-priority:99;\\r\\n\\tcolor:blue;\\r\\n\\ttext-decoration:underline;}\\r\\n.MsoChpDefault\\r\\n\\t{mso-style-type:export-only;}\\r\\n@page WordSection1\\r\\n\\t{size:8.5in 11.0in;\\r\\n\\tmargin:1.0in 1.0in 1.0in 1.0in;}\\r\\ndiv.WordSection1\\r\\n\\t{page:WordSection1;}\\r\\n--></style>\\r\\n</head>\\r\\n<body lang=3D\"EN-US\" link=3D\"blue\" vlink=3D\"#954F72\" style=3D\"word-wrap:bre=\\r\\nak-word\">\\r\\n<div class=3D\"WordSection1\">\\r\\n<p class=3D\"MsoNormal\">Hello world this is imaplib</p>\\r\\n<p class=3D\"MsoNormal\"><o:p>&nbsp;</o:p></p>\\r\\n<p class=3D\"MsoNormal\"><o:p>&nbsp;</o:p></p>\\r\\n<p class=3D\"MsoNormal\">Sent from <a href=3D\"https://go.microsoft.com/fwlink=\\r\\n/?LinkId=3D550986\">\\r\\nMail</a> for Windows</p>\\r\\n<p class=3D\"MsoNormal\"><o:p>&nbsp;</o:p></p>\\r\\n</div>\\r\\n</body>\\r\\n</html>\\r\\n\\r\\n--_000_TYUPR01MB5202400B3A85F0FA46C00ED0E450ATYUPR01MB5202apcp_--\\r\\n'),\n",
       " b')']"
      ]
     },
     "execution_count": 20,
     "metadata": {},
     "output_type": "execute_result"
    }
   ],
   "source": [
    "email_data"
   ]
  },
  {
   "cell_type": "code",
   "execution_count": 22,
   "metadata": {},
   "outputs": [],
   "source": [
    "raw_email = email_data[0][1]"
   ]
  },
  {
   "cell_type": "code",
   "execution_count": 24,
   "metadata": {},
   "outputs": [],
   "source": [
    "raw_email_string = raw_email.decode('utf-8')"
   ]
  },
  {
   "cell_type": "code",
   "execution_count": 25,
   "metadata": {},
   "outputs": [],
   "source": [
    "import email"
   ]
  },
  {
   "cell_type": "code",
   "execution_count": 26,
   "metadata": {},
   "outputs": [],
   "source": [
    "email_message = email.message_from_string(raw_email_string)"
   ]
  },
  {
   "cell_type": "code",
   "execution_count": 31,
   "metadata": {},
   "outputs": [
    {
     "name": "stdout",
     "output_type": "stream",
     "text": [
      "b'Hello world this is imaplib\\r\\n\\r\\n\\r\\nSent from Mail<https://go.microsoft.com/fwlink/?LinkId=550986> for Windows\\r\\n\\r\\n'\n"
     ]
    }
   ],
   "source": [
    "for part in email_message.walk():\n",
    "    if part.get_content_type () == 'text/plain':\n",
    "        body = part.get_payload(decode=True)\n",
    "        print(body)\n"
   ]
  },
  {
   "cell_type": "code",
   "execution_count": null,
   "metadata": {},
   "outputs": [],
   "source": []
  }
 ],
 "metadata": {
  "kernelspec": {
   "display_name": "Python 3",
   "language": "python",
   "name": "python3"
  },
  "language_info": {
   "codemirror_mode": {
    "name": "ipython",
    "version": 3
   },
   "file_extension": ".py",
   "mimetype": "text/x-python",
   "name": "python",
   "nbconvert_exporter": "python",
   "pygments_lexer": "ipython3",
   "version": "3.11.0"
  },
  "orig_nbformat": 4
 },
 "nbformat": 4,
 "nbformat_minor": 2
}
