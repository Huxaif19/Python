{
 "cells": [
  {
   "attachments": {},
   "cell_type": "markdown",
   "metadata": {},
   "source": [
    "war card game"
   ]
  },
  {
   "cell_type": "code",
   "execution_count": 144,
   "metadata": {},
   "outputs": [],
   "source": [
    "import random\n",
    "suits = ('Hearts', 'Diamonds', 'Spades', 'Clubs')\n",
    "ranks = ('Two', 'Three', 'Four', 'Five', 'Six', 'Seven', 'Eight', 'Nine', 'Ten', 'Jack', 'Queen', 'King', 'Ace')\n",
    "\n",
    "values = {'Two':2, 'Three':3, 'Four':4, 'Five':5, 'Six':6, 'Seven':7, 'Eight':8, 'Nine':9, 'Ten':10, 'Jack':11,\n",
    "'Queen':12, 'King':13, 'Ace':14}"
   ]
  },
  {
   "cell_type": "code",
   "execution_count": 145,
   "metadata": {},
   "outputs": [],
   "source": [
    "# card game war\n",
    "class Card():\n",
    "    def __init__(self, suit, rank):\n",
    "        self.suit = suit\n",
    "        self.rank = rank\n",
    "        self.value = values[rank]\n",
    "    def __str__ (self) :\n",
    "        return self.rank + \" of \" + self.suit"
   ]
  },
  {
   "cell_type": "code",
   "execution_count": 146,
   "metadata": {},
   "outputs": [],
   "source": [
    "class Deck :\n",
    "    def __init__ (self) :\n",
    "        self.all_cards = []\n",
    "        for suit in suits : \n",
    "            for rank in ranks: \n",
    "                created_card = Card(suit, rank)\n",
    "                self.all_cards.append(created_card)\n",
    "    def shuffle(self):\n",
    "        random.shuffle(self.all_cards)\n",
    "    def popy(self):\n",
    "        return self.all_cards.pop()"
   ]
  },
  {
   "cell_type": "code",
   "execution_count": 147,
   "metadata": {},
   "outputs": [
    {
     "name": "stdout",
     "output_type": "stream",
     "text": [
      "Ace of Clubs\n",
      "Nine of Diamonds\n",
      "51\n"
     ]
    }
   ],
   "source": [
    "new_deck = Deck()\n",
    "print(new_deck.all_cards[-1])\n",
    "new_deck.shuffle()\n",
    "my_card = new_deck.popy()\n",
    "print(my_card)\n",
    "print(len(new_deck.all_cards))"
   ]
  },
  {
   "cell_type": "code",
   "execution_count": 148,
   "metadata": {},
   "outputs": [],
   "source": [
    "class Player:\n",
    "    def __init__(self, name):\n",
    "        self.name = name\n",
    "        self.all_cards = []\n",
    "\n",
    "    def remove_one(self):\n",
    "        return self.all_cards.pop(0)\n",
    "    def add_cards(self, new_cards):\n",
    "        if type(new_cards) == type([]):\n",
    "            self.all_cards.extend(new_cards)\n",
    "        else:\n",
    "            self.all_cards.append(new_cards)\n",
    "    def __str__(self) -> str:\n",
    "        return f'player {self.name} has {len(self.all_cards)} cards'"
   ]
  },
  {
   "cell_type": "code",
   "execution_count": 149,
   "metadata": {},
   "outputs": [
    {
     "name": "stdout",
     "output_type": "stream",
     "text": [
      "player huzaif has 4 cards\n",
      "player huzaif has 3 cards\n"
     ]
    }
   ],
   "source": [
    "new_player= Player(\"huzaif\")\n",
    "new_player.add_cards(my_card)\n",
    "new_player.add_cards([my_card, my_card,my_card])\n",
    "print(new_player)\n",
    "new_player.remove_one()\n",
    "print(new_player)"
   ]
  },
  {
   "cell_type": "code",
   "execution_count": 150,
   "metadata": {},
   "outputs": [],
   "source": [
    "player_one = Player(\"one\")\n",
    "player_two = Player(\"two\")\n",
    "new_deck = Deck()\n",
    "new_deck.shuffle()\n",
    "\n",
    "\n",
    "#splitting the deck into two players\n",
    "for x in range(26) :\n",
    "    player_one.add_cards(new_deck.popy())\n",
    "    player_two.add_cards(new_deck.popy())"
   ]
  },
  {
   "cell_type": "code",
   "execution_count": 151,
   "metadata": {},
   "outputs": [
    {
     "name": "stdout",
     "output_type": "stream",
     "text": [
      "Round : 1\n",
      "Round : 2\n",
      "Round : 3\n",
      "Round : 4\n",
      "Round : 5\n",
      "Round : 6\n",
      "war!\n",
      "Round : 7\n",
      "war!\n",
      "war!\n",
      "Player One is unable to play\n",
      "player two wins\n"
     ]
    }
   ],
   "source": [
    "game_on = True\n",
    "round_no = 0\n",
    "while(game_on) :\n",
    "    round_no +=1\n",
    "    print(f'Round : {round_no}')\n",
    "    if len(player_one.all_cards) == 0 : \n",
    "        print ('player One is out of cards :: player two wins')\n",
    "        game_on = False\n",
    "        break\n",
    "    if len(player_two.all_cards) == 0 : \n",
    "        print ('player two is out of cards :: player one wins')\n",
    "        game_on = False\n",
    "        break\n",
    "    player_one_cards = [] \n",
    "    player_one_cards.append(player_one.remove_one())\n",
    "    player_two_cards = [] \n",
    "    player_two_cards.append(player_two.remove_one())\n",
    "    at_war = True\n",
    "    while at_war: \n",
    "        if player_one_cards[-1].value >  player_two_cards [-1].value:\n",
    "            player_one.add_cards (player_one_cards) \n",
    "            player_one.add_cards(player_two_cards)\n",
    "            at_war = False\n",
    "        elif player_one_cards[-1].value < player_two_cards [-1].value:\n",
    "            player_two.add_cards (player_two_cards) \n",
    "            player_two.add_cards(player_one_cards)\n",
    "            at_war = False\n",
    "        else : \n",
    "            print(\"war!\")\n",
    "            if len(player_one.all_cards) < 10:\n",
    "                print(\"Player One is unable to play\")\n",
    "                print(\"player two wins\")\n",
    "                game_on = False\n",
    "                break\n",
    "            elif len(player_two.all_cards) < 10:\n",
    "                print(\"Player two is unable to play\")\n",
    "                print(\"player one wins\")\n",
    "                game_on = False\n",
    "                break\n",
    "            else:\n",
    "                for num in range(10):\n",
    "                    player_one_cards.append(player_one.remove_one())\n",
    "                    player_two_cards.append(player_two.remove_one())\n"
   ]
  }
 ],
 "metadata": {
  "kernelspec": {
   "display_name": "Python 3",
   "language": "python",
   "name": "python3"
  },
  "language_info": {
   "codemirror_mode": {
    "name": "ipython",
    "version": 3
   },
   "file_extension": ".py",
   "mimetype": "text/x-python",
   "name": "python",
   "nbconvert_exporter": "python",
   "pygments_lexer": "ipython3",
   "version": "3.11.0"
  },
  "orig_nbformat": 4
 },
 "nbformat": 4,
 "nbformat_minor": 2
}
