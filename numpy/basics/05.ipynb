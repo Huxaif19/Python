{
 "cells": [
  {
   "cell_type": "code",
   "execution_count": 25,
   "metadata": {},
   "outputs": [
    {
     "name": "stdout",
     "output_type": "stream",
     "text": [
      "['t' 'b' 'r' 'd' 'e' 'f' 'z' 'a']\n",
      "[ 2  9  5 16  2  1  7  3]\n"
     ]
    }
   ],
   "source": [
    "import numpy as np \n",
    "a = np . array(['t', 'b','r', 'd', 'e', 'f', 'z', 'a'])\n",
    "b = np.random.randint(1,20,8)\n",
    "print(a)\n",
    "print(b)"
   ]
  },
  {
   "cell_type": "code",
   "execution_count": 26,
   "metadata": {},
   "outputs": [
    {
     "name": "stdout",
     "output_type": "stream",
     "text": [
      "[False False False  True False False False False]\n"
     ]
    }
   ],
   "source": [
    "print(b>10)"
   ]
  },
  {
   "cell_type": "code",
   "execution_count": 27,
   "metadata": {},
   "outputs": [
    {
     "name": "stdout",
     "output_type": "stream",
     "text": [
      "[False False False  True False False False False]\n"
     ]
    },
    {
     "data": {
      "text/plain": [
       "array([16])"
      ]
     },
     "execution_count": 27,
     "metadata": {},
     "output_type": "execute_result"
    }
   ],
   "source": [
    "bool_arr = b > 10\n",
    "print(bool_arr)\n",
    "new_arr = b[bool_arr]\n",
    "\n",
    "new_arr"
   ]
  },
  {
   "cell_type": "code",
   "execution_count": 28,
   "metadata": {},
   "outputs": [
    {
     "data": {
      "text/plain": [
       "array([16])"
      ]
     },
     "execution_count": 28,
     "metadata": {},
     "output_type": "execute_result"
    }
   ],
   "source": [
    "new_arr = b[(b > 10) & ( b < 18)]\n",
    "new_arr"
   ]
  },
  {
   "cell_type": "code",
   "execution_count": 44,
   "metadata": {},
   "outputs": [
    {
     "name": "stdout",
     "output_type": "stream",
     "text": [
      "[ 2  9  5 16  2  1  7  3]\n",
      "['t' 'b' 'r' 'd' 'e' 'f' 'z' 'a']\n",
      "['t' 'e']\n"
     ]
    }
   ],
   "source": [
    "print(b)\n",
    "print(a)\n",
    "# ind = np.where(b == 2)\n",
    "# print(ind)\n",
    "print(a[np.where(b ==2)])"
   ]
  }
 ],
 "metadata": {
  "kernelspec": {
   "display_name": "Python 3",
   "language": "python",
   "name": "python3"
  },
  "language_info": {
   "codemirror_mode": {
    "name": "ipython",
    "version": 3
   },
   "file_extension": ".py",
   "mimetype": "text/x-python",
   "name": "python",
   "nbconvert_exporter": "python",
   "pygments_lexer": "ipython3",
   "version": "3.11.0"
  },
  "orig_nbformat": 4
 },
 "nbformat": 4,
 "nbformat_minor": 2
}
