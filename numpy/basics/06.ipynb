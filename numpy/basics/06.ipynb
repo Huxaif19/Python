{
 "cells": [
  {
   "attachments": {},
   "cell_type": "markdown",
   "metadata": {},
   "source": [
    "broadcasting (operation over different sized array)\n",
    "compatable :::if:::\n",
    "1) equal\n",
    "2) one of them is 1"
   ]
  },
  {
   "cell_type": "code",
   "execution_count": 1,
   "metadata": {},
   "outputs": [
    {
     "name": "stdout",
     "output_type": "stream",
     "text": [
      "[[7 3 9]\n",
      " [5 7 4]\n",
      " [1 4 5]]\n",
      "[[1 2 1]\n",
      " [2 7 3]\n",
      " [2 2 8]]\n"
     ]
    }
   ],
   "source": [
    "import numpy as np\n",
    "x = np.random.randint(1,10,(3,3))\n",
    "y = np.random.randint(1,10,(3,3))\n",
    "print(x)\n",
    "print(y)"
   ]
  },
  {
   "cell_type": "code",
   "execution_count": 2,
   "metadata": {},
   "outputs": [
    {
     "data": {
      "text/plain": [
       "array([[ 6,  1,  8],\n",
       "       [ 3,  0,  1],\n",
       "       [-1,  2, -3]])"
      ]
     },
     "execution_count": 2,
     "metadata": {},
     "output_type": "execute_result"
    }
   ],
   "source": [
    "ans = x-y\n",
    "ans"
   ]
  },
  {
   "cell_type": "code",
   "execution_count": 3,
   "metadata": {},
   "outputs": [
    {
     "name": "stdout",
     "output_type": "stream",
     "text": [
      "[[3 8 7]\n",
      " [6 1 4]\n",
      " [4 4 5]]\n",
      "[4 9 9]\n"
     ]
    }
   ],
   "source": [
    "x = np.random.randint(1,10,(3,3))\n",
    "y = np.random.randint(1,10,(3))   \n",
    "print(x)\n",
    "print(y)"
   ]
  },
  {
   "cell_type": "code",
   "execution_count": 4,
   "metadata": {},
   "outputs": [
    {
     "data": {
      "text/plain": [
       "array([[-1, -1, -2],\n",
       "       [ 2, -8, -5],\n",
       "       [ 0, -5, -4]])"
      ]
     },
     "execution_count": 4,
     "metadata": {},
     "output_type": "execute_result"
    }
   ],
   "source": [
    "ans = x -y    # y is made compatable with the x by broadcasting the rows (repeat) to match its dimensions\n",
    "ans  "
   ]
  },
  {
   "cell_type": "code",
   "execution_count": 5,
   "metadata": {},
   "outputs": [
    {
     "name": "stdout",
     "output_type": "stream",
     "text": [
      "[[7 7]\n",
      " [5 8]\n",
      " [4 5]]\n",
      "[[4 6 7]\n",
      " [9 7 2]]\n"
     ]
    }
   ],
   "source": [
    "x = np.random.randint(1,10,(3,2))\n",
    "y = np.random.randint(1,10,(2,3))   \n",
    "print(x)\n",
    "print(y)"
   ]
  },
  {
   "cell_type": "code",
   "execution_count": 6,
   "metadata": {},
   "outputs": [
    {
     "data": {
      "text/plain": [
       "array([[ 3, -2],\n",
       "       [-1,  1],\n",
       "       [-3,  3]])"
      ]
     },
     "execution_count": 6,
     "metadata": {},
     "output_type": "execute_result"
    }
   ],
   "source": [
    "y = np.transpose(y)\n",
    "np.shape(y)\n",
    "ans = x -y \n",
    "ans "
   ]
  },
  {
   "cell_type": "code",
   "execution_count": 7,
   "metadata": {},
   "outputs": [
    {
     "name": "stdout",
     "output_type": "stream",
     "text": [
      "[[7]\n",
      " [7]\n",
      " [7]]\n",
      "[[5 8 8]\n",
      " [9 6 7]\n",
      " [5 9 9]]\n"
     ]
    }
   ],
   "source": [
    "a = np.random.randint(1, 10,(3,1))\n",
    "b = np.random.randint(1, 10,(3,3))\n",
    "print(a)\n",
    "print(b)"
   ]
  },
  {
   "cell_type": "code",
   "execution_count": 8,
   "metadata": {},
   "outputs": [
    {
     "data": {
      "text/plain": [
       "array([[ 2, -1, -1],\n",
       "       [-2,  1,  0],\n",
       "       [ 2, -2, -2]])"
      ]
     },
     "execution_count": 8,
     "metadata": {},
     "output_type": "execute_result"
    }
   ],
   "source": [
    "ans = a - b \n",
    "ans "
   ]
  },
  {
   "cell_type": "code",
   "execution_count": 9,
   "metadata": {},
   "outputs": [
    {
     "name": "stdout",
     "output_type": "stream",
     "text": [
      "[[5 2 3]]\n",
      "[[8]\n",
      " [2]\n",
      " [1]]\n",
      "[[-3 -6 -5]\n",
      " [ 3  0  1]\n",
      " [ 4  1  2]]\n"
     ]
    }
   ],
   "source": [
    "a = np.random.randint(1, 10,(1,3))\n",
    "b = np.random.randint(1, 10,(3,1))\n",
    "print(a)\n",
    "print(b)\n",
    "print(a-b)"
   ]
  },
  {
   "cell_type": "code",
   "execution_count": 10,
   "metadata": {},
   "outputs": [
    {
     "name": "stdout",
     "output_type": "stream",
     "text": [
      "[[6 4 5]]\n",
      "[5]\n",
      "[[ 1 -1  0]]\n"
     ]
    }
   ],
   "source": [
    "a = np.random.randint(1, 10,(1,3))\n",
    "b = np.random.randint(1, 10,(1))\n",
    "print(a)\n",
    "print(b)\n",
    "print(a - b)"
   ]
  },
  {
   "cell_type": "code",
   "execution_count": 11,
   "metadata": {},
   "outputs": [
    {
     "name": "stdout",
     "output_type": "stream",
     "text": [
      "[[7]\n",
      " [9]\n",
      " [7]]\n",
      "[[4 3 4]]\n",
      "[[3 4 3]\n",
      " [5 6 5]\n",
      " [3 4 3]]\n"
     ]
    }
   ],
   "source": [
    "a = np.random.randint(1, 10,(3,1))\n",
    "b = np.random.randint(1, 10,(1,3))\n",
    "print(a)\n",
    "print(b)\n",
    "print(a - b)"
   ]
  },
  {
   "attachments": {},
   "cell_type": "markdown",
   "metadata": {},
   "source": [
    "examples of broadcasting "
   ]
  },
  {
   "cell_type": "code",
   "execution_count": 12,
   "metadata": {},
   "outputs": [
    {
     "name": "stdout",
     "output_type": "stream",
     "text": [
      "{'Year': '1970', 'Month': '7', 'Day': '2', 'Country': 'Dominican Republic', 'State': '', 'Region': 'Central America & Caribbean', 'City': 'Santo Domingo', 'Latitude': '18.456792', 'Longitude': '-69.951164', 'AttackType': 'Assassination', 'Killed': '1.0', 'Wounded': '0.0', 'Target': 'Julio Guzman', 'Summary': '', 'Group': 'MANO-D', 'Target_type': 'Private Citizens & Property', 'Weapon_type': 'Unknown'}\n",
      "{'Year': '1970', 'Month': '0', 'Day': '0', 'Country': 'Mexico', 'State': 'Federal', 'Region': 'North America', 'City': 'Mexico city', 'Latitude': '19.371887', 'Longitude': '-99.086624', 'AttackType': 'Hostage Taking (Kidnapping)', 'Killed': '0.0', 'Wounded': '0.0', 'Target': 'Nadine Chaval, daughter', 'Summary': '', 'Group': '23rd of September Communist League', 'Target_type': 'Government (Diplomatic)', 'Weapon_type': 'Unknown'}\n",
      "{'Year': '1970', 'Month': '1', 'Day': '0', 'Country': 'Philippines', 'State': 'Tarlac', 'Region': 'Southeast Asia', 'City': 'Unknown', 'Latitude': '15.478598000000002', 'Longitude': '120.599741', 'AttackType': 'Assassination', 'Killed': '1.0', 'Wounded': '0.0', 'Target': 'Employee', 'Summary': '', 'Group': 'Unknown', 'Target_type': 'Journalists & Media', 'Weapon_type': 'Unknown'}\n",
      "{'Year': '1970', 'Month': '1', 'Day': '0', 'Country': 'Greece', 'State': 'Attica', 'Region': 'Western Europe', 'City': 'Athens', 'Latitude': '37.99749', 'Longitude': '23.762728', 'AttackType': 'Bombing/Explosion', 'Killed': '', 'Wounded': '', 'Target': 'U.S. Embassy', 'Summary': '', 'Group': 'Unknown', 'Target_type': 'Government (Diplomatic)', 'Weapon_type': 'Explosives'}\n",
      "{'Year': '1970', 'Month': '1', 'Day': '0', 'Country': 'Japan', 'State': 'Fukouka', 'Region': 'East Asia', 'City': 'Fukouka', 'Latitude': '33.580412', 'Longitude': '130.396361', 'AttackType': 'Facility/Infrastructure Attack', 'Killed': '', 'Wounded': '', 'Target': 'U.S. Consulate', 'Summary': '', 'Group': 'Unknown', 'Target_type': 'Government (Diplomatic)', 'Weapon_type': 'Incendiary'}\n",
      "{'Year': '1970', 'Month': '1', 'Day': '1', 'Country': 'United States', 'State': 'Illinois', 'Region': 'North America', 'City': 'Cairo', 'Latitude': '37.005105', 'Longitude': '-89.17626899999999', 'AttackType': 'Armed Assault', 'Killed': '0.0', 'Wounded': '0.0', 'Target': 'Cairo Police Headquarters', 'Summary': '1/1/1970: Unknown African American assailants fired several bullets at police headquarters in Cairo, Illinois, United States.  There were no casualties, however, one bullet narrowly missed several police officers.  This attack took place during heightened racial tensions, including a Black boycott of White-owned businesses, in Cairo Illinois.', 'Group': 'Black Nationalists', 'Target_type': 'Police', 'Weapon_type': 'Firearms'}\n",
      "{'Year': '1970', 'Month': '1', 'Day': '2', 'Country': 'Uruguay', 'State': 'Montevideo', 'Region': 'South America', 'City': 'Montevideo', 'Latitude': '-34.891151', 'Longitude': '-56.187214000000004', 'AttackType': 'Assassination', 'Killed': '0.0', 'Wounded': '0.0', 'Target': 'Juan Maria de Lucah/Chief of Directorate of info. and intell.', 'Summary': '', 'Group': 'Tupamaros (Uruguay)', 'Target_type': 'Police', 'Weapon_type': 'Firearms'}\n",
      "{'Year': '1970', 'Month': '1', 'Day': '2', 'Country': 'United States', 'State': 'California', 'Region': 'North America', 'City': 'Oakland', 'Latitude': '37.791927', 'Longitude': '-122.22590600000001', 'AttackType': 'Bombing/Explosion', 'Killed': '0.0', 'Wounded': '0.0', 'Target': 'Edes Substation', 'Summary': '1/2/1970: Unknown perpetrators detonated explosives at the Pacific Gas & Electric Company Edes substation in Oakland, California, United States.  Three transformers were damaged costing an estimated $20,000 to $25,000.  There were no casualties.', 'Group': 'Unknown', 'Target_type': 'Utilities', 'Weapon_type': 'Explosives'}\n",
      "{'Year': '1970', 'Month': '1', 'Day': '2', 'Country': 'United States', 'State': 'Wisconsin', 'Region': 'North America', 'City': 'Madison', 'Latitude': '43.076592', 'Longitude': '-89.412488', 'AttackType': 'Facility/Infrastructure Attack', 'Killed': '0.0', 'Wounded': '0.0', 'Target': 'R.O.T.C. offices at University of Wisconsin, Madison', 'Summary': '1/2/1970: Karl Armstrong, a member of the New Years Gang, threw a firebomb at R.O.T.C. offices located within the Old Red Gym at the University of Wisconsin in Madison, Wisconsin, United States.  There were no casualties but the fire caused around $60,000 in damages to the building.', 'Group': \"New Year's Gang\", 'Target_type': 'Military', 'Weapon_type': 'Incendiary'}\n",
      "{'Year': '1970', 'Month': '1', 'Day': '3', 'Country': 'United States', 'State': 'Wisconsin', 'Region': 'North America', 'City': 'Madison', 'Latitude': '43.07295', 'Longitude': '-89.38669399999999', 'AttackType': 'Facility/Infrastructure Attack', 'Killed': '0.0', 'Wounded': '0.0', 'Target': 'Selective Service Headquarters in Madison Wisconsin', 'Summary': \"1/3/1970: Karl Armstrong, a member of the New Years Gang, broke into the University of Wisconsin's Primate Lab and set a fire on the first floor of the building.  Armstrong intended to set fire to the Madison, Wisconsin, United States, Selective Service Headquarters across the street but mistakenly confused the building with the Primate Lab.  The fire caused slight damages and was extinguished almost immediately.\", 'Group': \"New Year's Gang\", 'Target_type': 'Government (General)', 'Weapon_type': 'Incendiary'}\n",
      "{'Year': '1970', 'Month': '1', 'Day': '1', 'Country': 'United States', 'State': 'Wisconsin', 'Region': 'North America', 'City': 'Baraboo', 'Latitude': '43.4685', 'Longitude': '-89.744299', 'AttackType': 'Bombing/Explosion', 'Killed': '0.0', 'Wounded': '0.0', 'Target': 'Badger Army ammo depot.', 'Summary': '', 'Group': 'Weather Underground, Weathermen', 'Target_type': 'Military', 'Weapon_type': 'Explosives'}\n",
      "{'Year': '1970', 'Month': '1', 'Day': '6', 'Country': 'United States', 'State': 'Colorado', 'Region': 'North America', 'City': 'Denver', 'Latitude': '39.758967999999996', 'Longitude': '-104.876305', 'AttackType': 'Facility/Infrastructure Attack', 'Killed': '0.0', 'Wounded': '0.0', 'Target': 'Army Recruiting Station, Denver Colorado', 'Summary': '1/6/1970: Unknown perpetrators threw a Molotov cocktail into an Army Recruiting Station in Denver, Colorado, United States.  There were no casualties but damages to the station were estimated at $305.', 'Group': 'Left-Wing Militants', 'Target_type': 'Military', 'Weapon_type': 'Incendiary'}\n",
      "{'Year': '1970', 'Month': '1', 'Day': '8', 'Country': 'Italy', 'State': 'Lazio', 'Region': 'Western Europe', 'City': 'Rome', 'Latitude': '41.890961', 'Longitude': '12.490069', 'AttackType': 'Hijacking', 'Killed': '0.0', 'Wounded': '0.0', 'Target': 'Flight 802 Boeing 707', 'Summary': '', 'Group': 'Unknown', 'Target_type': 'Airports & Aircraft', 'Weapon_type': 'Firearms'}\n",
      "{'Year': '1970', 'Month': '1', 'Day': '9', 'Country': 'United States', 'State': 'Michigan', 'Region': 'North America', 'City': 'Detroit', 'Latitude': '42.331685', 'Longitude': '-83.047924', 'AttackType': 'Facility/Infrastructure Attack', 'Killed': '0.0', 'Wounded': '0.0', 'Target': 'Packard Properties building of Detroit Michigan', 'Summary': '1/9/1970: Unknown perpetrators set off a firebomb at the Packard Properties building in Detroit, Michigan, United States.  The facility housed federal employees.  The building was damaged but there were no casualties.', 'Group': 'Left-Wing Militants', 'Target_type': 'Government (General)', 'Weapon_type': 'Incendiary'}\n",
      "{'Year': '1970', 'Month': '1', 'Day': '9', 'Country': 'United States', 'State': 'Puerto Rico', 'Region': 'North America', 'City': 'Rio Piedras', 'Latitude': '18.386932', 'Longitude': '-66.061127', 'AttackType': 'Facility/Infrastructure Attack', 'Killed': '0.0', 'Wounded': '0.0', 'Target': \"Baker's Store\", 'Summary': \"1/9/1970:  The Armed Commandos of Liberation claimed credit for setting a fire at the Baker's Store in Rio Piedras, Puerto Rico.  There were no casualties but the store was destroyed at a cost of $2,000,000.\", 'Group': 'Armed Commandos of Liberation', 'Target_type': 'Business', 'Weapon_type': 'Incendiary'}\n",
      "{'Year': '1970', 'Month': '1', 'Day': '10', 'Country': 'East Germany (GDR)', 'State': 'Berlin', 'Region': 'Eastern Europe', 'City': 'Berlin', 'Latitude': '52.50153', 'Longitude': '13.401851', 'AttackType': 'Bombing/Explosion', 'Killed': '', 'Wounded': '', 'Target': 'Jurists Ball (Palais au Frankturm)', 'Summary': '', 'Group': 'Commune 1', 'Target_type': 'Government (General)', 'Weapon_type': 'Explosives'}\n",
      "{'Year': '1970', 'Month': '1', 'Day': '11', 'Country': 'Ethiopia', 'State': 'Unknown', 'Region': 'Sub-Saharan Africa', 'City': 'Unknown', 'Latitude': '', 'Longitude': '', 'AttackType': 'Unknown', 'Killed': '1.0', 'Wounded': '0.0', 'Target': 'Soldier', 'Summary': '', 'Group': 'Eritrean Liberation Front', 'Target_type': 'Military', 'Weapon_type': 'Unknown'}\n",
      "{'Year': '1970', 'Month': '1', 'Day': '12', 'Country': 'United States', 'State': 'New York', 'Region': 'North America', 'City': 'New York City', 'Latitude': '40.697132', 'Longitude': '-73.931351', 'AttackType': 'Bombing/Explosion', 'Killed': '0.0', 'Wounded': '0.0', 'Target': 'James Madison High School', 'Summary': \"1/12/1970: Unknown perpetrators threw a pipe bomb into the vacant dean's office of James Madison High School in Brooklyn, New York, United States.  There were no casualties but the explosion caused minor damages.  Earlier in the day anti-war and pro-Black Panther statements were discovered painted outside the walls of the school.\", 'Group': 'Black Nationalists', 'Target_type': 'Educational Institution', 'Weapon_type': 'Explosives'}\n",
      "{'Year': '1970', 'Month': '1', 'Day': '12', 'Country': 'United States', 'State': 'Puerto Rico', 'Region': 'North America', 'City': 'Rio Grande', 'Latitude': '18.379998', 'Longitude': '-65.83094799999999', 'AttackType': 'Bombing/Explosion', 'Killed': '0.0', 'Wounded': '0.0', 'Target': 'General Electric factory in Rio Grande Puerto Rico', 'Summary': '1/12/1970: Unknown perpetrators detonated a bomb at a General Electric factory in Rio Grande, Puerto Rico during a strike.  There were no casualties and it is unknown if the factory sustained any damages.', 'Group': 'Strikers', 'Target_type': 'Business', 'Weapon_type': 'Explosives'}\n",
      "{'Year': '1970', 'Month': '1', 'Day': '13', 'Country': 'United States', 'State': 'Washington', 'Region': 'North America', 'City': 'Seattle', 'Latitude': '47.610786', 'Longitude': '-122.33130600000001', 'AttackType': 'Facility/Infrastructure Attack', 'Killed': '0.0', 'Wounded': '0.0', 'Target': \"Fuson's Department Store, Seattle Washington\", 'Summary': \"1/13/1970: Unknown perpetrators firebombed Fuson's Department Store in Seattle, Washington, United States.  There were no casualties but the store sustained an estimated $17,000 in damages.  Less than a week earlier, the store owner shot and killed an African American male attempting to rob the store.\", 'Group': 'Black Nationalists', 'Target_type': 'Business', 'Weapon_type': 'Incendiary'}\n",
      "{'Year': '1970', 'Month': '1', 'Day': '14', 'Country': 'United States', 'State': 'Illinois', 'Region': 'North America', 'City': 'Champaign', 'Latitude': '40.116748', 'Longitude': '-88.23926999999999', 'AttackType': 'Facility/Infrastructure Attack', 'Killed': '0.0', 'Wounded': '1.0', 'Target': 'Champaign Police Department', 'Summary': '1/14/1970: Suspected Black militants threw two firebombs into the Champaign Police Department in Champaign, Illinois, United States.  The building was damaged and one police officer was severely burned.', 'Group': 'Black Nationalists', 'Target_type': 'Police', 'Weapon_type': 'Incendiary'}\n",
      "{'Year': '1970', 'Month': '1', 'Day': '15', 'Country': 'Uruguay', 'State': 'Montevideo', 'Region': 'South America', 'City': 'Montevideo', 'Latitude': '-34.891151', 'Longitude': '-56.187214000000004', 'AttackType': 'Armed Assault', 'Killed': '0.0', 'Wounded': '0.0', 'Target': 'Secondary School, Chemistry Lab', 'Summary': '', 'Group': 'Tupamaros (Uruguay)', 'Target_type': 'Educational Institution', 'Weapon_type': 'Firearms'}\n",
      "{'Year': '1970', 'Month': '1', 'Day': '19', 'Country': 'United States', 'State': 'Washington', 'Region': 'North America', 'City': 'Seattle', 'Latitude': '47.610786', 'Longitude': '-122.33130600000001', 'AttackType': 'Bombing/Explosion', 'Killed': '0.0', 'Wounded': '0.0', 'Target': 'Liberal Arts and Garrand buildings, Seattle University', 'Summary': '1/17/1970: Three African Americans were suspected of detonating a bomb on the Seattle University campus in Seattle, Washington, United States.  There were no casualties but the Liberal Arts and Garrand buildings sustained $2,200 in damages.', 'Group': 'Black Nationalists', 'Target_type': 'Educational Institution', 'Weapon_type': 'Explosives'}\n",
      "{'Year': '1970', 'Month': '1', 'Day': '19', 'Country': 'United States', 'State': 'Washington', 'Region': 'North America', 'City': 'Seattle', 'Latitude': '47.610786', 'Longitude': '-122.33130600000001', 'AttackType': 'Bombing/Explosion', 'Killed': '0.0', 'Wounded': '0.0', 'Target': 'Air Force R.O.T.C. at the University of Washington', 'Summary': '1/17/1970: Silas and Judith Bissell placed an explosive device in the vicinity of the Air Force R.O.T.C. at the University of Washington campus in Seattle, Washington, United States.  The device was discovered and subsequently disarmed.', 'Group': 'Student Radicals', 'Target_type': 'Military', 'Weapon_type': 'Explosives'}\n",
      "{'Year': '1970', 'Month': '1', 'Day': '19', 'Country': 'United States', 'State': 'New Jersey', 'Region': 'North America', 'City': 'Jersey City', 'Latitude': '40.717892', 'Longitude': '-74.06746700000001', 'AttackType': 'Facility/Infrastructure Attack', 'Killed': '0.0', 'Wounded': '0.0', 'Target': 'Headquarters', 'Summary': '1/19/1970: Unknown perpetrators ignited a fire at the Black Panther Party headquarters in Jersey City, New Jersey, United States.  Two hours later shots were fired at the building.  There were no casualties but the building sustained minor damages.', 'Group': 'White extremists', 'Target_type': 'Violent Political Party', 'Weapon_type': 'Incendiary'}\n",
      "{'Year': '1970', 'Month': '1', 'Day': '20', 'Country': 'Guatemala', 'State': 'Guatemala', 'Region': 'Central America & Caribbean', 'City': 'Guatemala City', 'Latitude': '14.622869', 'Longitude': '-90.52906800000001', 'AttackType': 'Assassination', 'Killed': '1.0', 'Wounded': '0.0', 'Target': 'Bodyguard, British Consul', 'Summary': '', 'Group': 'Unknown', 'Target_type': 'Government (Diplomatic)', 'Weapon_type': 'Unknown'}\n",
      "{'Year': '1970', 'Month': '1', 'Day': '21', 'Country': 'Philippines', 'State': 'Metropolitan Manila', 'Region': 'Southeast Asia', 'City': 'Quezon City', 'Latitude': '14.67428', 'Longitude': '121.05749499999999', 'AttackType': 'Bombing/Explosion', 'Killed': '0.0', 'Wounded': '0.0', 'Target': 'JUSMAG HQ', 'Summary': '', 'Group': 'Unknown', 'Target_type': 'Government (Diplomatic)', 'Weapon_type': 'Explosives'}\n",
      "{'Year': '1970', 'Month': '1', 'Day': '22', 'Country': 'Venezuela', 'State': 'Caracas', 'Region': 'South America', 'City': 'Caracas', 'Latitude': '10.482834', 'Longitude': '-66.962128', 'AttackType': 'Hostage Taking (Kidnapping)', 'Killed': '0.0', 'Wounded': '0.0', 'Target': 'Leon Jacobo Taurel, son', 'Summary': '', 'Group': 'Armed Forces of National Liberation- Venezuela (FALN)', 'Target_type': 'Business', 'Weapon_type': 'Unknown'}\n"
     ]
    }
   ],
   "source": [
    "\n",
    "import numpy as np \n",
    "import csv\n",
    "open_file = open('this.csv')\n",
    "data = csv.DictReader(open_file,skipinitialspace=True)\n",
    "for i in data : \n",
    "    print(i)"
   ]
  },
  {
   "cell_type": "code",
   "execution_count": 13,
   "metadata": {},
   "outputs": [],
   "source": [
    "country = []\n",
    "wounded = []\n",
    "killed = []\n",
    "for i in data: \n",
    "    country.append(i['Country'])\n",
    "    print(i['Country'])\n",
    "    wounded.append(i['Wounded'])\n",
    "    killed.append(i['Killed'])"
   ]
  },
  {
   "cell_type": "code",
   "execution_count": 14,
   "metadata": {},
   "outputs": [
    {
     "name": "stdout",
     "output_type": "stream",
     "text": [
      "[]\n",
      "[]\n",
      "[]\n"
     ]
    }
   ],
   "source": [
    "np_killed = np.array(killed, dtype=int)\n",
    "np_country = np.array(country)\n",
    "np_wounded = np.array(wounded)\n",
    "print(np_killed)\n",
    "print(np_country)\n",
    "print(np_wounded)"
   ]
  }
 ],
 "metadata": {
  "kernelspec": {
   "display_name": "Python 3",
   "language": "python",
   "name": "python3"
  },
  "language_info": {
   "codemirror_mode": {
    "name": "ipython",
    "version": 3
   },
   "file_extension": ".py",
   "mimetype": "text/x-python",
   "name": "python",
   "nbconvert_exporter": "python",
   "pygments_lexer": "ipython3",
   "version": "3.11.0"
  },
  "orig_nbformat": 4
 },
 "nbformat": 4,
 "nbformat_minor": 2
}
