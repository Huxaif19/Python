{
 "cells": [
  {
   "attachments": {},
   "cell_type": "markdown",
   "metadata": {},
   "source": [
    "some examples"
   ]
  },
  {
   "cell_type": "code",
   "execution_count": 2,
   "metadata": {},
   "outputs": [
    {
     "name": "stdout",
     "output_type": "stream",
     "text": [
      "['Dominican Republic', 'Mexico', 'Philippines', 'Greece', 'Japan', 'United States', 'Uruguay', 'United States', 'United States', 'United States', 'United States', 'United States', 'Italy', 'United States', 'United States', 'East Germany (GDR)', 'Ethiopia', 'United States', 'United States', 'United States', 'United States', 'Uruguay', 'United States', 'United States', 'United States', 'Guatemala', 'Philippines', 'Venezuela']\n",
      "['1.0', '0.0', '1.0', '', '', '0.0', '0.0', '0.0', '0.0', '0.0', '0.0', '0.0', '0.0', '0.0', '0.0', '', '1.0', '0.0', '0.0', '0.0', '0.0', '0.0', '0.0', '0.0', '0.0', '1.0', '0.0', '0.0']\n",
      "['0.0', '0.0', '0.0', '', '', '0.0', '0.0', '0.0', '0.0', '0.0', '0.0', '0.0', '0.0', '0.0', '0.0', '', '0.0', '0.0', '0.0', '0.0', '1.0', '0.0', '0.0', '0.0', '0.0', '0.0', '0.0', '0.0']\n"
     ]
    }
   ],
   "source": [
    "import numpy as np \n",
    "import csv\n",
    "file_obj = open('this.csv')\n",
    "data = csv.DictReader(file_obj, skipinitialspace=True) \n",
    "wounded = [] \n",
    "killed = [] \n",
    "country = []\n",
    "for row in data : \n",
    "    wounded.append(row['Wounded'])\n",
    "    country.append(row['Country'])\n",
    "    killed.append(row['Killed'])\n",
    "np_killed = np.array(killed)\n",
    "np_wounded = np.array(wounded)\n",
    "np_country = np.array(country)\n",
    "print(country)\n",
    "print(killed)\n",
    "print(wounded)"
   ]
  },
  {
   "attachments": {},
   "cell_type": "markdown",
   "metadata": {},
   "source": [
    "there are some missing values in the wounded and killed array\n",
    "\n",
    "\n",
    "remvoing missing values"
   ]
  },
  {
   "cell_type": "code",
   "execution_count": 3,
   "metadata": {},
   "outputs": [
    {
     "data": {
      "text/plain": [
       "array(['1.0', '0.0', '1.0', '0.0', '0.0', '0.0', '0.0', '0.0', '0.0',\n",
       "       '0.0', '0.0', '0.0', '0.0', '0.0', '0.0', '0.0', '1.0', '0.0',\n",
       "       '0.0', '0.0', '0.0', '0.0', '0.0', '0.0', '0.0', '1.0', '0.0',\n",
       "       '0.0'], dtype='<U3')"
      ]
     },
     "execution_count": 3,
     "metadata": {},
     "output_type": "execute_result"
    }
   ],
   "source": [
    "np_killed[np_killed == ''] = '0.0'    # replacing missing values with '0.0\n",
    "np_wounded[np_wounded == ''] = '0.0'    # replacing missing values with '0.0\n",
    "\n",
    "np_killed"
   ]
  },
  {
   "attachments": {},
   "cell_type": "markdown",
   "metadata": {},
   "source": [
    "type is string \n",
    "first str -> float then float -> int"
   ]
  },
  {
   "cell_type": "code",
   "execution_count": 5,
   "metadata": {},
   "outputs": [
    {
     "data": {
      "text/plain": [
       "array([1., 0., 1., 0., 0., 0., 0., 0., 0., 0., 0., 0., 0., 0., 0., 0., 1.,\n",
       "       0., 0., 0., 1., 0., 0., 0., 0., 1., 0., 0.])"
      ]
     },
     "execution_count": 5,
     "metadata": {},
     "output_type": "execute_result"
    }
   ],
   "source": [
    "np_killed = np.array(np_killed, dtype = float)\n",
    "np_wounded = np.array(np_wounded, dtype = float)\n",
    "killed_wounded = np_killed + np_wounded\n",
    "killed_wounded"
   ]
  },
  {
   "cell_type": "code",
   "execution_count": 25,
   "metadata": {},
   "outputs": [
    {
     "name": "stdout",
     "output_type": "stream",
     "text": [
      "['Dominican Republic' 'Mexico' 'Philippines' 'Greece' 'Japan'\n",
      " 'United States' 'Uruguay' 'United States' 'United States' 'United States'\n",
      " 'United States' 'United States' 'Italy' 'United States' 'United States'\n",
      " 'East Germany (GDR)' 'Ethiopia' 'United States' 'United States'\n",
      " 'United States' 'United States' 'Uruguay' 'United States' 'United States'\n",
      " 'United States' 'Guatemala' 'Philippines' 'Venezuela']\n",
      "\n",
      "\n",
      "['Dominican Republic', 'Mexico', 'Philippines', 'Greece', 'Japan', 'United States', 'Uruguay', 'United States', 'United States', 'United States', 'United States', 'United States', 'Italy', 'United States', 'United States', 'East Germany (GDR)', 'Ethiopia', 'United States', 'United States', 'United States', 'United States', 'Uruguay', 'United States', 'United States', 'United States', 'Guatemala', 'Philippines', 'Venezuela']\n"
     ]
    }
   ],
   "source": [
    "np_country = np.array(country)\n",
    "print(np_country)\n",
    "print('\\n')\n",
    "\n",
    "print(country)"
   ]
  },
  {
   "cell_type": "code",
   "execution_count": 39,
   "metadata": {},
   "outputs": [
    {
     "name": "stdout",
     "output_type": "stream",
     "text": [
      "[0. 0. 0. 0. 0. 0. 0. 0. 0. 0. 0. 1. 0. 0. 0.]\n",
      "1.0\n",
      "5.0\n"
     ]
    }
   ],
   "source": [
    "bool_arr = np_country == 'United States'\n",
    "bool_arr\n",
    "ans = killed_wounded[bool_arr]\n",
    "print(ans)\n",
    "print(np.sum(ans))\n",
    "print(np.sum(killed_wounded))"
   ]
  }
 ],
 "metadata": {
  "kernelspec": {
   "display_name": "Python 3",
   "language": "python",
   "name": "python3"
  },
  "language_info": {
   "codemirror_mode": {
    "name": "ipython",
    "version": 3
   },
   "file_extension": ".py",
   "mimetype": "text/x-python",
   "name": "python",
   "nbconvert_exporter": "python",
   "pygments_lexer": "ipython3",
   "version": "3.11.0"
  },
  "orig_nbformat": 4
 },
 "nbformat": 4,
 "nbformat_minor": 2
}
