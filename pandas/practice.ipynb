{
 "cells": [
  {
   "cell_type": "code",
   "execution_count": 7,
   "metadata": {},
   "outputs": [
    {
     "name": "stdout",
     "output_type": "stream",
     "text": [
      "DataFrame:\n",
      "     A   B   C\n",
      "0  10  40  70\n",
      "1  20  50  80\n",
      "2  30  60  90\n",
      "\n",
      "Series:\n",
      " A    1\n",
      "B    2\n",
      "C    3\n",
      "dtype: int64\n",
      "\n",
      "Result (axis=index):\n",
      "     A   B   C\n",
      "0 NaN NaN NaN\n",
      "1 NaN NaN NaN\n",
      "2 NaN NaN NaN\n",
      "A NaN NaN NaN\n",
      "B NaN NaN NaN\n",
      "C NaN NaN NaN\n",
      "\n",
      "Result (axis=columns):\n",
      "     A   B   C\n",
      "0   9  38  67\n",
      "1  19  48  77\n",
      "2  29  58  87\n"
     ]
    }
   ],
   "source": [
    "import pandas as pd\n",
    "\n",
    "# Create a DataFrame with some sample data\n",
    "df = pd.DataFrame({\n",
    "    'A': [10, 20, 30],\n",
    "    'B': [40, 50, 60],\n",
    "    'C': [70, 80, 90]\n",
    "})\n",
    "\n",
    "# Create a Series to subtract from the DataFrame\n",
    "s = pd.Series([1, 2, 3], index = [\"A\",\"B\",\"C\"])\n",
    "\n",
    "# Subtract the Series from the DataFrame along the index axis\n",
    "result1 = df.sub(s, axis=\"index\")\n",
    "\n",
    "# Subtract the Series from the DataFrame along the columns axis\n",
    "result2 = df.sub(s, axis=\"columns\")\n",
    "\n",
    "print(\"DataFrame:\\n\", df)\n",
    "print(\"\\nSeries:\\n\", s)\n",
    "print(\"\\nResult (axis=index):\\n\", result1)\n",
    "print(\"\\nResult (axis=columns):\\n\", result2)"
   ]
  }
 ],
 "metadata": {
  "kernelspec": {
   "display_name": "Python 3",
   "language": "python",
   "name": "python3"
  },
  "language_info": {
   "codemirror_mode": {
    "name": "ipython",
    "version": 3
   },
   "file_extension": ".py",
   "mimetype": "text/x-python",
   "name": "python",
   "nbconvert_exporter": "python",
   "pygments_lexer": "ipython3",
   "version": "3.11.0"
  },
  "orig_nbformat": 4
 },
 "nbformat": 4,
 "nbformat_minor": 2
}
