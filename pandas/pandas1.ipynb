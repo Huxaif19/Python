{
 "cells": [
  {
   "cell_type": "code",
   "execution_count": 145,
   "metadata": {},
   "outputs": [],
   "source": [
    "import numpy as np \n",
    "import pandas as pd\n"
   ]
  },
  {
   "attachments": {},
   "cell_type": "markdown",
   "metadata": {},
   "source": [
    "object creation"
   ]
  },
  {
   "cell_type": "code",
   "execution_count": 146,
   "metadata": {},
   "outputs": [],
   "source": [
    "s = pd . Series([1,2,3,np.nan, 6,8])"
   ]
  },
  {
   "attachments": {},
   "cell_type": "markdown",
   "metadata": {},
   "source": [
    "constructing a series from a dict"
   ]
  },
  {
   "cell_type": "code",
   "execution_count": 147,
   "metadata": {},
   "outputs": [
    {
     "data": {
      "text/plain": [
       "a    1\n",
       "b    2\n",
       "c    3\n",
       "dtype: int64"
      ]
     },
     "execution_count": 147,
     "metadata": {},
     "output_type": "execute_result"
    }
   ],
   "source": [
    "d = {'a' :1, 'b' : 2, 'c' : 3}\n",
    "ser = pd.Series(data = d, index= ['a', 'b', 'c'])\n",
    "ser"
   ]
  },
  {
   "attachments": {},
   "cell_type": "markdown",
   "metadata": {},
   "source": [
    "the keys of the dict match with the index values, hence the index values have no effect"
   ]
  },
  {
   "cell_type": "code",
   "execution_count": 148,
   "metadata": {},
   "outputs": [
    {
     "data": {
      "text/plain": [
       "x   NaN\n",
       "y   NaN\n",
       "z   NaN\n",
       "dtype: float64"
      ]
     },
     "execution_count": 148,
     "metadata": {},
     "output_type": "execute_result"
    }
   ],
   "source": [
    "d = {'a' :1, 'b' : 2, 'c' : 3}\n",
    "ser = pd.Series(data = d, index= ['x', 'y', 'z'])   # when the index doesnt match....  generate nan values\n",
    "ser"
   ]
  },
  {
   "attachments": {},
   "cell_type": "markdown",
   "metadata": {},
   "source": [
    "note that the index is first build with the keys from the dictonary. After this the series is reindexed with the given index values, hence we get all NaN as the result"
   ]
  },
  {
   "attachments": {},
   "cell_type": "markdown",
   "metadata": {},
   "source": [
    "constructing series from a list with copy = false"
   ]
  },
  {
   "cell_type": "code",
   "execution_count": 149,
   "metadata": {},
   "outputs": [
    {
     "data": {
      "text/plain": [
       "0    6\n",
       "1    2\n",
       "dtype: int64"
      ]
     },
     "execution_count": 149,
     "metadata": {},
     "output_type": "execute_result"
    }
   ],
   "source": [
    "r = [1,2]\n",
    "ser = pd.Series(r, copy= False)\n",
    "ser.iloc[0] = 6\n",
    "ser"
   ]
  },
  {
   "cell_type": "code",
   "execution_count": null,
   "metadata": {},
   "outputs": [],
   "source": []
  },
  {
   "attachments": {},
   "cell_type": "markdown",
   "metadata": {},
   "source": [
    "creating dataframe by passing a numpy array, with a datetime index using date_range() and labeled columns:"
   ]
  },
  {
   "cell_type": "code",
   "execution_count": 150,
   "metadata": {},
   "outputs": [
    {
     "data": {
      "text/plain": [
       "DatetimeIndex(['2023-03-31', '2023-04-01', '2023-04-02', '2023-04-03',\n",
       "               '2023-04-04', '2023-04-05'],\n",
       "              dtype='datetime64[ns]', freq='D')"
      ]
     },
     "execution_count": 150,
     "metadata": {},
     "output_type": "execute_result"
    }
   ],
   "source": [
    "dates = pd.date_range(\"20230331\", periods= 6)\n",
    "dates"
   ]
  },
  {
   "cell_type": "code",
   "execution_count": 151,
   "metadata": {},
   "outputs": [
    {
     "data": {
      "text/html": [
       "<div>\n",
       "<style scoped>\n",
       "    .dataframe tbody tr th:only-of-type {\n",
       "        vertical-align: middle;\n",
       "    }\n",
       "\n",
       "    .dataframe tbody tr th {\n",
       "        vertical-align: top;\n",
       "    }\n",
       "\n",
       "    .dataframe thead th {\n",
       "        text-align: right;\n",
       "    }\n",
       "</style>\n",
       "<table border=\"1\" class=\"dataframe\">\n",
       "  <thead>\n",
       "    <tr style=\"text-align: right;\">\n",
       "      <th></th>\n",
       "      <th>A</th>\n",
       "      <th>B</th>\n",
       "      <th>C</th>\n",
       "      <th>D</th>\n",
       "    </tr>\n",
       "  </thead>\n",
       "  <tbody>\n",
       "    <tr>\n",
       "      <th>2023-03-31</th>\n",
       "      <td>2.018098</td>\n",
       "      <td>-0.224777</td>\n",
       "      <td>-0.820699</td>\n",
       "      <td>1.238960</td>\n",
       "    </tr>\n",
       "    <tr>\n",
       "      <th>2023-04-01</th>\n",
       "      <td>1.438660</td>\n",
       "      <td>1.373752</td>\n",
       "      <td>0.938148</td>\n",
       "      <td>0.830741</td>\n",
       "    </tr>\n",
       "    <tr>\n",
       "      <th>2023-04-02</th>\n",
       "      <td>-0.039156</td>\n",
       "      <td>1.280429</td>\n",
       "      <td>-1.028214</td>\n",
       "      <td>0.332827</td>\n",
       "    </tr>\n",
       "    <tr>\n",
       "      <th>2023-04-03</th>\n",
       "      <td>1.796608</td>\n",
       "      <td>0.043018</td>\n",
       "      <td>1.531741</td>\n",
       "      <td>-0.599041</td>\n",
       "    </tr>\n",
       "    <tr>\n",
       "      <th>2023-04-04</th>\n",
       "      <td>0.310405</td>\n",
       "      <td>-0.160016</td>\n",
       "      <td>-0.951556</td>\n",
       "      <td>0.365554</td>\n",
       "    </tr>\n",
       "    <tr>\n",
       "      <th>2023-04-05</th>\n",
       "      <td>-1.014142</td>\n",
       "      <td>0.451059</td>\n",
       "      <td>0.571542</td>\n",
       "      <td>-1.009870</td>\n",
       "    </tr>\n",
       "  </tbody>\n",
       "</table>\n",
       "</div>"
      ],
      "text/plain": [
       "                   A         B         C         D\n",
       "2023-03-31  2.018098 -0.224777 -0.820699  1.238960\n",
       "2023-04-01  1.438660  1.373752  0.938148  0.830741\n",
       "2023-04-02 -0.039156  1.280429 -1.028214  0.332827\n",
       "2023-04-03  1.796608  0.043018  1.531741 -0.599041\n",
       "2023-04-04  0.310405 -0.160016 -0.951556  0.365554\n",
       "2023-04-05 -1.014142  0.451059  0.571542 -1.009870"
      ]
     },
     "execution_count": 151,
     "metadata": {},
     "output_type": "execute_result"
    }
   ],
   "source": [
    "df = pd.DataFrame(np.random.randn(6,4), index= dates, columns= list(\"ABCD\"))\n",
    "df"
   ]
  },
  {
   "cell_type": "code",
   "execution_count": 152,
   "metadata": {},
   "outputs": [
    {
     "data": {
      "text/html": [
       "<div>\n",
       "<style scoped>\n",
       "    .dataframe tbody tr th:only-of-type {\n",
       "        vertical-align: middle;\n",
       "    }\n",
       "\n",
       "    .dataframe tbody tr th {\n",
       "        vertical-align: top;\n",
       "    }\n",
       "\n",
       "    .dataframe thead th {\n",
       "        text-align: right;\n",
       "    }\n",
       "</style>\n",
       "<table border=\"1\" class=\"dataframe\">\n",
       "  <thead>\n",
       "    <tr style=\"text-align: right;\">\n",
       "      <th></th>\n",
       "      <th>A</th>\n",
       "      <th>B</th>\n",
       "      <th>C</th>\n",
       "      <th>D</th>\n",
       "      <th>E</th>\n",
       "      <th>F</th>\n",
       "    </tr>\n",
       "  </thead>\n",
       "  <tbody>\n",
       "    <tr>\n",
       "      <th>0</th>\n",
       "      <td>1.0</td>\n",
       "      <td>2022-03-31</td>\n",
       "      <td>1.0</td>\n",
       "      <td>3</td>\n",
       "      <td>test</td>\n",
       "      <td>foo</td>\n",
       "    </tr>\n",
       "    <tr>\n",
       "      <th>1</th>\n",
       "      <td>1.0</td>\n",
       "      <td>2022-03-31</td>\n",
       "      <td>1.0</td>\n",
       "      <td>3</td>\n",
       "      <td>train</td>\n",
       "      <td>foo</td>\n",
       "    </tr>\n",
       "    <tr>\n",
       "      <th>2</th>\n",
       "      <td>1.0</td>\n",
       "      <td>2022-03-31</td>\n",
       "      <td>1.0</td>\n",
       "      <td>3</td>\n",
       "      <td>test</td>\n",
       "      <td>foo</td>\n",
       "    </tr>\n",
       "    <tr>\n",
       "      <th>3</th>\n",
       "      <td>1.0</td>\n",
       "      <td>2022-03-31</td>\n",
       "      <td>1.0</td>\n",
       "      <td>3</td>\n",
       "      <td>train</td>\n",
       "      <td>foo</td>\n",
       "    </tr>\n",
       "  </tbody>\n",
       "</table>\n",
       "</div>"
      ],
      "text/plain": [
       "     A          B    C  D      E    F\n",
       "0  1.0 2022-03-31  1.0  3   test  foo\n",
       "1  1.0 2022-03-31  1.0  3  train  foo\n",
       "2  1.0 2022-03-31  1.0  3   test  foo\n",
       "3  1.0 2022-03-31  1.0  3  train  foo"
      ]
     },
     "execution_count": 152,
     "metadata": {},
     "output_type": "execute_result"
    }
   ],
   "source": [
    "df2 = pd.DataFrame(\n",
    "    {\n",
    "    'A':1.0,\n",
    "    \"B\": pd.Timestamp(\"20220331\"),\n",
    "    \"C\" : pd.Series(1, index=list(range(4)), dtype= \"float32\"),\n",
    "    \"D\" : np.array([3] *4, dtype = \"int32\"),\n",
    "    \"E\" : pd.Categorical([\"test\",\"train\",\"test\",\"train\"]),\n",
    "    \"F\" : \"foo\",\n",
    "    }\n",
    ")\n",
    "df2"
   ]
  },
  {
   "attachments": {},
   "cell_type": "markdown",
   "metadata": {},
   "source": [
    "    VIEWING DATA"
   ]
  },
  {
   "cell_type": "code",
   "execution_count": 153,
   "metadata": {},
   "outputs": [
    {
     "name": "stdout",
     "output_type": "stream",
     "text": [
      "     A          B    C  D      E    F\n",
      "0  1.0 2022-03-31  1.0  3   test  foo\n",
      "1  1.0 2022-03-31  1.0  3  train  foo\n",
      "2  1.0 2022-03-31  1.0  3   test  foo\n",
      "3  1.0 2022-03-31  1.0  3  train  foo\n",
      "     A          B    C  D      E    F\n",
      "0  1.0 2022-03-31  1.0  3   test  foo\n",
      "1  1.0 2022-03-31  1.0  3  train  foo\n",
      "2  1.0 2022-03-31  1.0  3   test  foo\n",
      "3  1.0 2022-03-31  1.0  3  train  foo\n"
     ]
    }
   ],
   "source": [
    "print(df2.head())\n",
    "print(df2.tail())"
   ]
  },
  {
   "cell_type": "code",
   "execution_count": 154,
   "metadata": {},
   "outputs": [
    {
     "data": {
      "text/plain": [
       "Index(['A', 'B', 'C', 'D', 'E', 'F'], dtype='object')"
      ]
     },
     "execution_count": 154,
     "metadata": {},
     "output_type": "execute_result"
    }
   ],
   "source": [
    "df2.index\n",
    "df2.columns"
   ]
  },
  {
   "attachments": {},
   "cell_type": "markdown",
   "metadata": {},
   "source": [
    "DataFrame.to_numpy() gives a NumPy representation of the underlying data. Note that this can be an expensive operation when your DataFrame has columns with different data types, which comes down to a fundamental difference between pandas and NumPy: NumPy arrays have one dtype for the entire array, while pandas DataFrames have one dtype per column. When you call DataFrame.to_numpy(), pandas will find the NumPy dtype that can hold all of the dtypes in the DataFrame. This may end up being object, which requires casting every value to a Python object."
   ]
  },
  {
   "cell_type": "code",
   "execution_count": 155,
   "metadata": {},
   "outputs": [
    {
     "data": {
      "text/plain": [
       "<bound method DataFrame.to_numpy of                    A         B         C         D\n",
       "2023-03-31  2.018098 -0.224777 -0.820699  1.238960\n",
       "2023-04-01  1.438660  1.373752  0.938148  0.830741\n",
       "2023-04-02 -0.039156  1.280429 -1.028214  0.332827\n",
       "2023-04-03  1.796608  0.043018  1.531741 -0.599041\n",
       "2023-04-04  0.310405 -0.160016 -0.951556  0.365554\n",
       "2023-04-05 -1.014142  0.451059  0.571542 -1.009870>"
      ]
     },
     "execution_count": 155,
     "metadata": {},
     "output_type": "execute_result"
    }
   ],
   "source": [
    "df.to_numpy"
   ]
  },
  {
   "cell_type": "code",
   "execution_count": 156,
   "metadata": {},
   "outputs": [
    {
     "data": {
      "text/plain": [
       "<bound method DataFrame.to_numpy of      A          B    C  D      E    F\n",
       "0  1.0 2022-03-31  1.0  3   test  foo\n",
       "1  1.0 2022-03-31  1.0  3  train  foo\n",
       "2  1.0 2022-03-31  1.0  3   test  foo\n",
       "3  1.0 2022-03-31  1.0  3  train  foo>"
      ]
     },
     "execution_count": 156,
     "metadata": {},
     "output_type": "execute_result"
    }
   ],
   "source": [
    "df2.to_numpy"
   ]
  },
  {
   "cell_type": "code",
   "execution_count": 157,
   "metadata": {},
   "outputs": [
    {
     "name": "stdout",
     "output_type": "stream",
     "text": [
      "              A         B         C         D\n",
      "count  6.000000  6.000000  6.000000  6.000000\n",
      "mean   0.751745  0.460577  0.040160  0.193195\n",
      "std    1.192133  0.712087  1.111716  0.851387\n",
      "min   -1.014142 -0.224777 -1.028214 -1.009870\n",
      "25%    0.048234 -0.109258 -0.918842 -0.366074\n",
      "50%    0.874532  0.247038 -0.124579  0.349191\n",
      "75%    1.707121  1.073087  0.846496  0.714444\n",
      "max    2.018098  1.373752  1.531741  1.238960\n",
      "\n",
      "\n",
      "dataframe 2nd\n",
      "         A    C    D\n",
      "count  4.0  4.0  4.0\n",
      "mean   1.0  1.0  3.0\n",
      "std    0.0  0.0  0.0\n",
      "min    1.0  1.0  3.0\n",
      "25%    1.0  1.0  3.0\n",
      "50%    1.0  1.0  3.0\n",
      "75%    1.0  1.0  3.0\n",
      "max    1.0  1.0  3.0\n"
     ]
    }
   ],
   "source": [
    "print(df.describe())\n",
    "\n",
    "print(\"\\n\\ndataframe 2nd\")\n",
    "print(df2.describe())"
   ]
  },
  {
   "attachments": {},
   "cell_type": "markdown",
   "metadata": {},
   "source": [
    "transposing the data"
   ]
  },
  {
   "cell_type": "code",
   "execution_count": 158,
   "metadata": {},
   "outputs": [
    {
     "data": {
      "text/html": [
       "<div>\n",
       "<style scoped>\n",
       "    .dataframe tbody tr th:only-of-type {\n",
       "        vertical-align: middle;\n",
       "    }\n",
       "\n",
       "    .dataframe tbody tr th {\n",
       "        vertical-align: top;\n",
       "    }\n",
       "\n",
       "    .dataframe thead th {\n",
       "        text-align: right;\n",
       "    }\n",
       "</style>\n",
       "<table border=\"1\" class=\"dataframe\">\n",
       "  <thead>\n",
       "    <tr style=\"text-align: right;\">\n",
       "      <th></th>\n",
       "      <th>2023-03-31</th>\n",
       "      <th>2023-04-01</th>\n",
       "      <th>2023-04-02</th>\n",
       "      <th>2023-04-03</th>\n",
       "      <th>2023-04-04</th>\n",
       "      <th>2023-04-05</th>\n",
       "    </tr>\n",
       "  </thead>\n",
       "  <tbody>\n",
       "    <tr>\n",
       "      <th>A</th>\n",
       "      <td>2.018098</td>\n",
       "      <td>1.438660</td>\n",
       "      <td>-0.039156</td>\n",
       "      <td>1.796608</td>\n",
       "      <td>0.310405</td>\n",
       "      <td>-1.014142</td>\n",
       "    </tr>\n",
       "    <tr>\n",
       "      <th>B</th>\n",
       "      <td>-0.224777</td>\n",
       "      <td>1.373752</td>\n",
       "      <td>1.280429</td>\n",
       "      <td>0.043018</td>\n",
       "      <td>-0.160016</td>\n",
       "      <td>0.451059</td>\n",
       "    </tr>\n",
       "    <tr>\n",
       "      <th>C</th>\n",
       "      <td>-0.820699</td>\n",
       "      <td>0.938148</td>\n",
       "      <td>-1.028214</td>\n",
       "      <td>1.531741</td>\n",
       "      <td>-0.951556</td>\n",
       "      <td>0.571542</td>\n",
       "    </tr>\n",
       "    <tr>\n",
       "      <th>D</th>\n",
       "      <td>1.238960</td>\n",
       "      <td>0.830741</td>\n",
       "      <td>0.332827</td>\n",
       "      <td>-0.599041</td>\n",
       "      <td>0.365554</td>\n",
       "      <td>-1.009870</td>\n",
       "    </tr>\n",
       "  </tbody>\n",
       "</table>\n",
       "</div>"
      ],
      "text/plain": [
       "   2023-03-31  2023-04-01  2023-04-02  2023-04-03  2023-04-04  2023-04-05\n",
       "A    2.018098    1.438660   -0.039156    1.796608    0.310405   -1.014142\n",
       "B   -0.224777    1.373752    1.280429    0.043018   -0.160016    0.451059\n",
       "C   -0.820699    0.938148   -1.028214    1.531741   -0.951556    0.571542\n",
       "D    1.238960    0.830741    0.332827   -0.599041    0.365554   -1.009870"
      ]
     },
     "execution_count": 158,
     "metadata": {},
     "output_type": "execute_result"
    }
   ],
   "source": [
    "df.T\n",
    "# print(df2.T)"
   ]
  },
  {
   "cell_type": "code",
   "execution_count": 159,
   "metadata": {},
   "outputs": [
    {
     "name": "stdout",
     "output_type": "stream",
     "text": [
      "                   A         B         C         D\n",
      "2023-04-05 -1.014142  0.451059  0.571542 -1.009870\n",
      "2023-04-04  0.310405 -0.160016 -0.951556  0.365554\n",
      "2023-04-03  1.796608  0.043018  1.531741 -0.599041\n",
      "2023-04-02 -0.039156  1.280429 -1.028214  0.332827\n",
      "2023-04-01  1.438660  1.373752  0.938148  0.830741\n",
      "2023-03-31  2.018098 -0.224777 -0.820699  1.238960\n"
     ]
    }
   ],
   "source": [
    "# df.sort_values(by = \"A\", ascending=False)\n",
    "print(df.sort_index(ascending=False))"
   ]
  },
  {
   "cell_type": "code",
   "execution_count": 160,
   "metadata": {},
   "outputs": [
    {
     "data": {
      "text/html": [
       "<div>\n",
       "<style scoped>\n",
       "    .dataframe tbody tr th:only-of-type {\n",
       "        vertical-align: middle;\n",
       "    }\n",
       "\n",
       "    .dataframe tbody tr th {\n",
       "        vertical-align: top;\n",
       "    }\n",
       "\n",
       "    .dataframe thead th {\n",
       "        text-align: right;\n",
       "    }\n",
       "</style>\n",
       "<table border=\"1\" class=\"dataframe\">\n",
       "  <thead>\n",
       "    <tr style=\"text-align: right;\">\n",
       "      <th></th>\n",
       "      <th>A</th>\n",
       "      <th>B</th>\n",
       "      <th>C</th>\n",
       "      <th>D</th>\n",
       "      <th>E</th>\n",
       "      <th>F</th>\n",
       "    </tr>\n",
       "  </thead>\n",
       "  <tbody>\n",
       "    <tr>\n",
       "      <th>3</th>\n",
       "      <td>1.0</td>\n",
       "      <td>2022-03-31</td>\n",
       "      <td>1.0</td>\n",
       "      <td>3</td>\n",
       "      <td>train</td>\n",
       "      <td>foo</td>\n",
       "    </tr>\n",
       "    <tr>\n",
       "      <th>2</th>\n",
       "      <td>1.0</td>\n",
       "      <td>2022-03-31</td>\n",
       "      <td>1.0</td>\n",
       "      <td>3</td>\n",
       "      <td>test</td>\n",
       "      <td>foo</td>\n",
       "    </tr>\n",
       "    <tr>\n",
       "      <th>1</th>\n",
       "      <td>1.0</td>\n",
       "      <td>2022-03-31</td>\n",
       "      <td>1.0</td>\n",
       "      <td>3</td>\n",
       "      <td>train</td>\n",
       "      <td>foo</td>\n",
       "    </tr>\n",
       "    <tr>\n",
       "      <th>0</th>\n",
       "      <td>1.0</td>\n",
       "      <td>2022-03-31</td>\n",
       "      <td>1.0</td>\n",
       "      <td>3</td>\n",
       "      <td>test</td>\n",
       "      <td>foo</td>\n",
       "    </tr>\n",
       "  </tbody>\n",
       "</table>\n",
       "</div>"
      ],
      "text/plain": [
       "     A          B    C  D      E    F\n",
       "3  1.0 2022-03-31  1.0  3  train  foo\n",
       "2  1.0 2022-03-31  1.0  3   test  foo\n",
       "1  1.0 2022-03-31  1.0  3  train  foo\n",
       "0  1.0 2022-03-31  1.0  3   test  foo"
      ]
     },
     "execution_count": 160,
     "metadata": {},
     "output_type": "execute_result"
    }
   ],
   "source": [
    "df2.sort_index(ascending=False)"
   ]
  },
  {
   "attachments": {},
   "cell_type": "markdown",
   "metadata": {},
   "source": [
    "SELECTION \n"
   ]
  },
  {
   "attachments": {},
   "cell_type": "markdown",
   "metadata": {},
   "source": [
    "1) Getting"
   ]
  },
  {
   "cell_type": "code",
   "execution_count": 161,
   "metadata": {},
   "outputs": [
    {
     "data": {
      "text/plain": [
       "0    3\n",
       "1    3\n",
       "2    3\n",
       "3    3\n",
       "Name: D, dtype: int32"
      ]
     },
     "execution_count": 161,
     "metadata": {},
     "output_type": "execute_result"
    }
   ],
   "source": [
    "df2[\"D\"] # equivalent to df2.D"
   ]
  },
  {
   "cell_type": "code",
   "execution_count": 162,
   "metadata": {},
   "outputs": [
    {
     "data": {
      "text/html": [
       "<div>\n",
       "<style scoped>\n",
       "    .dataframe tbody tr th:only-of-type {\n",
       "        vertical-align: middle;\n",
       "    }\n",
       "\n",
       "    .dataframe tbody tr th {\n",
       "        vertical-align: top;\n",
       "    }\n",
       "\n",
       "    .dataframe thead th {\n",
       "        text-align: right;\n",
       "    }\n",
       "</style>\n",
       "<table border=\"1\" class=\"dataframe\">\n",
       "  <thead>\n",
       "    <tr style=\"text-align: right;\">\n",
       "      <th></th>\n",
       "      <th>A</th>\n",
       "      <th>B</th>\n",
       "      <th>C</th>\n",
       "      <th>D</th>\n",
       "    </tr>\n",
       "  </thead>\n",
       "  <tbody>\n",
       "    <tr>\n",
       "      <th>2023-03-31</th>\n",
       "      <td>2.018098</td>\n",
       "      <td>-0.224777</td>\n",
       "      <td>-0.820699</td>\n",
       "      <td>1.238960</td>\n",
       "    </tr>\n",
       "    <tr>\n",
       "      <th>2023-04-01</th>\n",
       "      <td>1.438660</td>\n",
       "      <td>1.373752</td>\n",
       "      <td>0.938148</td>\n",
       "      <td>0.830741</td>\n",
       "    </tr>\n",
       "    <tr>\n",
       "      <th>2023-04-02</th>\n",
       "      <td>-0.039156</td>\n",
       "      <td>1.280429</td>\n",
       "      <td>-1.028214</td>\n",
       "      <td>0.332827</td>\n",
       "    </tr>\n",
       "  </tbody>\n",
       "</table>\n",
       "</div>"
      ],
      "text/plain": [
       "                   A         B         C         D\n",
       "2023-03-31  2.018098 -0.224777 -0.820699  1.238960\n",
       "2023-04-01  1.438660  1.373752  0.938148  0.830741\n",
       "2023-04-02 -0.039156  1.280429 -1.028214  0.332827"
      ]
     },
     "execution_count": 162,
     "metadata": {},
     "output_type": "execute_result"
    }
   ],
   "source": [
    "df[0:3]    # which slices the rows not the columns"
   ]
  },
  {
   "cell_type": "code",
   "execution_count": 163,
   "metadata": {},
   "outputs": [
    {
     "data": {
      "text/html": [
       "<div>\n",
       "<style scoped>\n",
       "    .dataframe tbody tr th:only-of-type {\n",
       "        vertical-align: middle;\n",
       "    }\n",
       "\n",
       "    .dataframe tbody tr th {\n",
       "        vertical-align: top;\n",
       "    }\n",
       "\n",
       "    .dataframe thead th {\n",
       "        text-align: right;\n",
       "    }\n",
       "</style>\n",
       "<table border=\"1\" class=\"dataframe\">\n",
       "  <thead>\n",
       "    <tr style=\"text-align: right;\">\n",
       "      <th></th>\n",
       "      <th>A</th>\n",
       "      <th>B</th>\n",
       "      <th>C</th>\n",
       "      <th>D</th>\n",
       "    </tr>\n",
       "  </thead>\n",
       "  <tbody>\n",
       "    <tr>\n",
       "      <th>2023-04-03</th>\n",
       "      <td>1.796608</td>\n",
       "      <td>0.043018</td>\n",
       "      <td>1.531741</td>\n",
       "      <td>-0.599041</td>\n",
       "    </tr>\n",
       "    <tr>\n",
       "      <th>2023-04-04</th>\n",
       "      <td>0.310405</td>\n",
       "      <td>-0.160016</td>\n",
       "      <td>-0.951556</td>\n",
       "      <td>0.365554</td>\n",
       "    </tr>\n",
       "  </tbody>\n",
       "</table>\n",
       "</div>"
      ],
      "text/plain": [
       "                   A         B         C         D\n",
       "2023-04-03  1.796608  0.043018  1.531741 -0.599041\n",
       "2023-04-04  0.310405 -0.160016 -0.951556  0.365554"
      ]
     },
     "execution_count": 163,
     "metadata": {},
     "output_type": "execute_result"
    }
   ],
   "source": [
    "df[\"20230403\" : \"20230404\"]"
   ]
  },
  {
   "attachments": {},
   "cell_type": "markdown",
   "metadata": {},
   "source": [
    "selection by label"
   ]
  },
  {
   "cell_type": "code",
   "execution_count": 164,
   "metadata": {},
   "outputs": [
    {
     "data": {
      "text/html": [
       "<div>\n",
       "<style scoped>\n",
       "    .dataframe tbody tr th:only-of-type {\n",
       "        vertical-align: middle;\n",
       "    }\n",
       "\n",
       "    .dataframe tbody tr th {\n",
       "        vertical-align: top;\n",
       "    }\n",
       "\n",
       "    .dataframe thead th {\n",
       "        text-align: right;\n",
       "    }\n",
       "</style>\n",
       "<table border=\"1\" class=\"dataframe\">\n",
       "  <thead>\n",
       "    <tr style=\"text-align: right;\">\n",
       "      <th></th>\n",
       "      <th>A</th>\n",
       "      <th>B</th>\n",
       "      <th>C</th>\n",
       "      <th>D</th>\n",
       "    </tr>\n",
       "  </thead>\n",
       "  <tbody>\n",
       "    <tr>\n",
       "      <th>2023-03-31</th>\n",
       "      <td>2.018098</td>\n",
       "      <td>-0.224777</td>\n",
       "      <td>-0.820699</td>\n",
       "      <td>1.238960</td>\n",
       "    </tr>\n",
       "    <tr>\n",
       "      <th>2023-04-01</th>\n",
       "      <td>1.438660</td>\n",
       "      <td>1.373752</td>\n",
       "      <td>0.938148</td>\n",
       "      <td>0.830741</td>\n",
       "    </tr>\n",
       "    <tr>\n",
       "      <th>2023-04-02</th>\n",
       "      <td>-0.039156</td>\n",
       "      <td>1.280429</td>\n",
       "      <td>-1.028214</td>\n",
       "      <td>0.332827</td>\n",
       "    </tr>\n",
       "    <tr>\n",
       "      <th>2023-04-03</th>\n",
       "      <td>1.796608</td>\n",
       "      <td>0.043018</td>\n",
       "      <td>1.531741</td>\n",
       "      <td>-0.599041</td>\n",
       "    </tr>\n",
       "    <tr>\n",
       "      <th>2023-04-04</th>\n",
       "      <td>0.310405</td>\n",
       "      <td>-0.160016</td>\n",
       "      <td>-0.951556</td>\n",
       "      <td>0.365554</td>\n",
       "    </tr>\n",
       "    <tr>\n",
       "      <th>2023-04-05</th>\n",
       "      <td>-1.014142</td>\n",
       "      <td>0.451059</td>\n",
       "      <td>0.571542</td>\n",
       "      <td>-1.009870</td>\n",
       "    </tr>\n",
       "  </tbody>\n",
       "</table>\n",
       "</div>"
      ],
      "text/plain": [
       "                   A         B         C         D\n",
       "2023-03-31  2.018098 -0.224777 -0.820699  1.238960\n",
       "2023-04-01  1.438660  1.373752  0.938148  0.830741\n",
       "2023-04-02 -0.039156  1.280429 -1.028214  0.332827\n",
       "2023-04-03  1.796608  0.043018  1.531741 -0.599041\n",
       "2023-04-04  0.310405 -0.160016 -0.951556  0.365554\n",
       "2023-04-05 -1.014142  0.451059  0.571542 -1.009870"
      ]
     },
     "execution_count": 164,
     "metadata": {},
     "output_type": "execute_result"
    }
   ],
   "source": [
    "df"
   ]
  },
  {
   "cell_type": "code",
   "execution_count": 165,
   "metadata": {},
   "outputs": [
    {
     "data": {
      "text/plain": [
       "A    2.018098\n",
       "B   -0.224777\n",
       "C   -0.820699\n",
       "D    1.238960\n",
       "Name: 2023-03-31 00:00:00, dtype: float64"
      ]
     },
     "execution_count": 165,
     "metadata": {},
     "output_type": "execute_result"
    }
   ],
   "source": [
    "df.loc[dates[0]]"
   ]
  },
  {
   "cell_type": "code",
   "execution_count": 166,
   "metadata": {},
   "outputs": [
    {
     "data": {
      "text/html": [
       "<div>\n",
       "<style scoped>\n",
       "    .dataframe tbody tr th:only-of-type {\n",
       "        vertical-align: middle;\n",
       "    }\n",
       "\n",
       "    .dataframe tbody tr th {\n",
       "        vertical-align: top;\n",
       "    }\n",
       "\n",
       "    .dataframe thead th {\n",
       "        text-align: right;\n",
       "    }\n",
       "</style>\n",
       "<table border=\"1\" class=\"dataframe\">\n",
       "  <thead>\n",
       "    <tr style=\"text-align: right;\">\n",
       "      <th></th>\n",
       "      <th>A</th>\n",
       "      <th>B</th>\n",
       "    </tr>\n",
       "  </thead>\n",
       "  <tbody>\n",
       "    <tr>\n",
       "      <th>2023-03-31</th>\n",
       "      <td>2.018098</td>\n",
       "      <td>-0.224777</td>\n",
       "    </tr>\n",
       "    <tr>\n",
       "      <th>2023-04-01</th>\n",
       "      <td>1.438660</td>\n",
       "      <td>1.373752</td>\n",
       "    </tr>\n",
       "    <tr>\n",
       "      <th>2023-04-02</th>\n",
       "      <td>-0.039156</td>\n",
       "      <td>1.280429</td>\n",
       "    </tr>\n",
       "    <tr>\n",
       "      <th>2023-04-03</th>\n",
       "      <td>1.796608</td>\n",
       "      <td>0.043018</td>\n",
       "    </tr>\n",
       "    <tr>\n",
       "      <th>2023-04-04</th>\n",
       "      <td>0.310405</td>\n",
       "      <td>-0.160016</td>\n",
       "    </tr>\n",
       "    <tr>\n",
       "      <th>2023-04-05</th>\n",
       "      <td>-1.014142</td>\n",
       "      <td>0.451059</td>\n",
       "    </tr>\n",
       "  </tbody>\n",
       "</table>\n",
       "</div>"
      ],
      "text/plain": [
       "                   A         B\n",
       "2023-03-31  2.018098 -0.224777\n",
       "2023-04-01  1.438660  1.373752\n",
       "2023-04-02 -0.039156  1.280429\n",
       "2023-04-03  1.796608  0.043018\n",
       "2023-04-04  0.310405 -0.160016\n",
       "2023-04-05 -1.014142  0.451059"
      ]
     },
     "execution_count": 166,
     "metadata": {},
     "output_type": "execute_result"
    }
   ],
   "source": [
    "df.loc[:,[\"A\", \"B\"]]"
   ]
  },
  {
   "attachments": {},
   "cell_type": "markdown",
   "metadata": {},
   "source": [
    "label slicing , end points included"
   ]
  },
  {
   "cell_type": "code",
   "execution_count": 167,
   "metadata": {},
   "outputs": [
    {
     "data": {
      "text/html": [
       "<div>\n",
       "<style scoped>\n",
       "    .dataframe tbody tr th:only-of-type {\n",
       "        vertical-align: middle;\n",
       "    }\n",
       "\n",
       "    .dataframe tbody tr th {\n",
       "        vertical-align: top;\n",
       "    }\n",
       "\n",
       "    .dataframe thead th {\n",
       "        text-align: right;\n",
       "    }\n",
       "</style>\n",
       "<table border=\"1\" class=\"dataframe\">\n",
       "  <thead>\n",
       "    <tr style=\"text-align: right;\">\n",
       "      <th></th>\n",
       "      <th>A</th>\n",
       "      <th>B</th>\n",
       "    </tr>\n",
       "  </thead>\n",
       "  <tbody>\n",
       "    <tr>\n",
       "      <th>2023-03-31</th>\n",
       "      <td>2.018098</td>\n",
       "      <td>-0.224777</td>\n",
       "    </tr>\n",
       "    <tr>\n",
       "      <th>2023-04-01</th>\n",
       "      <td>1.438660</td>\n",
       "      <td>1.373752</td>\n",
       "    </tr>\n",
       "    <tr>\n",
       "      <th>2023-04-02</th>\n",
       "      <td>-0.039156</td>\n",
       "      <td>1.280429</td>\n",
       "    </tr>\n",
       "    <tr>\n",
       "      <th>2023-04-03</th>\n",
       "      <td>1.796608</td>\n",
       "      <td>0.043018</td>\n",
       "    </tr>\n",
       "    <tr>\n",
       "      <th>2023-04-04</th>\n",
       "      <td>0.310405</td>\n",
       "      <td>-0.160016</td>\n",
       "    </tr>\n",
       "  </tbody>\n",
       "</table>\n",
       "</div>"
      ],
      "text/plain": [
       "                   A         B\n",
       "2023-03-31  2.018098 -0.224777\n",
       "2023-04-01  1.438660  1.373752\n",
       "2023-04-02 -0.039156  1.280429\n",
       "2023-04-03  1.796608  0.043018\n",
       "2023-04-04  0.310405 -0.160016"
      ]
     },
     "execution_count": 167,
     "metadata": {},
     "output_type": "execute_result"
    }
   ],
   "source": [
    "df.loc[\"20230331\":\"20230404\", [\"A\",\"B\"]]"
   ]
  },
  {
   "cell_type": "code",
   "execution_count": 168,
   "metadata": {},
   "outputs": [
    {
     "data": {
      "text/plain": [
       "A    2.018098\n",
       "B   -0.224777\n",
       "Name: 2023-03-31 00:00:00, dtype: float64"
      ]
     },
     "execution_count": 168,
     "metadata": {},
     "output_type": "execute_result"
    }
   ],
   "source": [
    "df.loc[\"20230331\" , [\"A\", \"B\"]]"
   ]
  },
  {
   "attachments": {},
   "cell_type": "markdown",
   "metadata": {},
   "source": [
    "for getting a scaler value"
   ]
  },
  {
   "cell_type": "code",
   "execution_count": 169,
   "metadata": {},
   "outputs": [
    {
     "data": {
      "text/plain": [
       "2.018098082933575"
      ]
     },
     "execution_count": 169,
     "metadata": {},
     "output_type": "execute_result"
    }
   ],
   "source": [
    "# df.loc[dates[0], \"A\"] \n",
    "df.at[dates[0], \"A\"]  # its equivalent to prior method but fast"
   ]
  },
  {
   "attachments": {},
   "cell_type": "markdown",
   "metadata": {},
   "source": [
    "Selection by position"
   ]
  },
  {
   "cell_type": "code",
   "execution_count": 170,
   "metadata": {},
   "outputs": [
    {
     "data": {
      "text/html": [
       "<div>\n",
       "<style scoped>\n",
       "    .dataframe tbody tr th:only-of-type {\n",
       "        vertical-align: middle;\n",
       "    }\n",
       "\n",
       "    .dataframe tbody tr th {\n",
       "        vertical-align: top;\n",
       "    }\n",
       "\n",
       "    .dataframe thead th {\n",
       "        text-align: right;\n",
       "    }\n",
       "</style>\n",
       "<table border=\"1\" class=\"dataframe\">\n",
       "  <thead>\n",
       "    <tr style=\"text-align: right;\">\n",
       "      <th></th>\n",
       "      <th>A</th>\n",
       "      <th>B</th>\n",
       "      <th>C</th>\n",
       "      <th>D</th>\n",
       "    </tr>\n",
       "  </thead>\n",
       "  <tbody>\n",
       "    <tr>\n",
       "      <th>2023-03-31</th>\n",
       "      <td>2.018098</td>\n",
       "      <td>-0.224777</td>\n",
       "      <td>-0.820699</td>\n",
       "      <td>1.238960</td>\n",
       "    </tr>\n",
       "    <tr>\n",
       "      <th>2023-04-01</th>\n",
       "      <td>1.438660</td>\n",
       "      <td>1.373752</td>\n",
       "      <td>0.938148</td>\n",
       "      <td>0.830741</td>\n",
       "    </tr>\n",
       "    <tr>\n",
       "      <th>2023-04-02</th>\n",
       "      <td>-0.039156</td>\n",
       "      <td>1.280429</td>\n",
       "      <td>-1.028214</td>\n",
       "      <td>0.332827</td>\n",
       "    </tr>\n",
       "    <tr>\n",
       "      <th>2023-04-03</th>\n",
       "      <td>1.796608</td>\n",
       "      <td>0.043018</td>\n",
       "      <td>1.531741</td>\n",
       "      <td>-0.599041</td>\n",
       "    </tr>\n",
       "    <tr>\n",
       "      <th>2023-04-04</th>\n",
       "      <td>0.310405</td>\n",
       "      <td>-0.160016</td>\n",
       "      <td>-0.951556</td>\n",
       "      <td>0.365554</td>\n",
       "    </tr>\n",
       "    <tr>\n",
       "      <th>2023-04-05</th>\n",
       "      <td>-1.014142</td>\n",
       "      <td>0.451059</td>\n",
       "      <td>0.571542</td>\n",
       "      <td>-1.009870</td>\n",
       "    </tr>\n",
       "  </tbody>\n",
       "</table>\n",
       "</div>"
      ],
      "text/plain": [
       "                   A         B         C         D\n",
       "2023-03-31  2.018098 -0.224777 -0.820699  1.238960\n",
       "2023-04-01  1.438660  1.373752  0.938148  0.830741\n",
       "2023-04-02 -0.039156  1.280429 -1.028214  0.332827\n",
       "2023-04-03  1.796608  0.043018  1.531741 -0.599041\n",
       "2023-04-04  0.310405 -0.160016 -0.951556  0.365554\n",
       "2023-04-05 -1.014142  0.451059  0.571542 -1.009870"
      ]
     },
     "execution_count": 170,
     "metadata": {},
     "output_type": "execute_result"
    }
   ],
   "source": [
    "df"
   ]
  },
  {
   "cell_type": "code",
   "execution_count": 171,
   "metadata": {},
   "outputs": [
    {
     "data": {
      "text/plain": [
       "A    1.796608\n",
       "B    0.043018\n",
       "C    1.531741\n",
       "D   -0.599041\n",
       "Name: 2023-04-03 00:00:00, dtype: float64"
      ]
     },
     "execution_count": 171,
     "metadata": {},
     "output_type": "execute_result"
    }
   ],
   "source": [
    "df.iloc[3]"
   ]
  },
  {
   "cell_type": "code",
   "execution_count": 172,
   "metadata": {},
   "outputs": [
    {
     "data": {
      "text/html": [
       "<div>\n",
       "<style scoped>\n",
       "    .dataframe tbody tr th:only-of-type {\n",
       "        vertical-align: middle;\n",
       "    }\n",
       "\n",
       "    .dataframe tbody tr th {\n",
       "        vertical-align: top;\n",
       "    }\n",
       "\n",
       "    .dataframe thead th {\n",
       "        text-align: right;\n",
       "    }\n",
       "</style>\n",
       "<table border=\"1\" class=\"dataframe\">\n",
       "  <thead>\n",
       "    <tr style=\"text-align: right;\">\n",
       "      <th></th>\n",
       "      <th>A</th>\n",
       "      <th>B</th>\n",
       "      <th>C</th>\n",
       "    </tr>\n",
       "  </thead>\n",
       "  <tbody>\n",
       "    <tr>\n",
       "      <th>2023-04-03</th>\n",
       "      <td>1.796608</td>\n",
       "      <td>0.043018</td>\n",
       "      <td>1.531741</td>\n",
       "    </tr>\n",
       "    <tr>\n",
       "      <th>2023-04-04</th>\n",
       "      <td>0.310405</td>\n",
       "      <td>-0.160016</td>\n",
       "      <td>-0.951556</td>\n",
       "    </tr>\n",
       "  </tbody>\n",
       "</table>\n",
       "</div>"
      ],
      "text/plain": [
       "                   A         B         C\n",
       "2023-04-03  1.796608  0.043018  1.531741\n",
       "2023-04-04  0.310405 -0.160016 -0.951556"
      ]
     },
     "execution_count": 172,
     "metadata": {},
     "output_type": "execute_result"
    }
   ],
   "source": [
    "df.iloc [3:5, 0:3]  # here [3:5 for the rows] and [0:3] for the column   and end points not included"
   ]
  },
  {
   "cell_type": "code",
   "execution_count": 173,
   "metadata": {},
   "outputs": [
    {
     "data": {
      "text/html": [
       "<div>\n",
       "<style scoped>\n",
       "    .dataframe tbody tr th:only-of-type {\n",
       "        vertical-align: middle;\n",
       "    }\n",
       "\n",
       "    .dataframe tbody tr th {\n",
       "        vertical-align: top;\n",
       "    }\n",
       "\n",
       "    .dataframe thead th {\n",
       "        text-align: right;\n",
       "    }\n",
       "</style>\n",
       "<table border=\"1\" class=\"dataframe\">\n",
       "  <thead>\n",
       "    <tr style=\"text-align: right;\">\n",
       "      <th></th>\n",
       "      <th>A</th>\n",
       "      <th>C</th>\n",
       "    </tr>\n",
       "  </thead>\n",
       "  <tbody>\n",
       "    <tr>\n",
       "      <th>2023-04-01</th>\n",
       "      <td>1.438660</td>\n",
       "      <td>0.938148</td>\n",
       "    </tr>\n",
       "    <tr>\n",
       "      <th>2023-04-02</th>\n",
       "      <td>-0.039156</td>\n",
       "      <td>-1.028214</td>\n",
       "    </tr>\n",
       "    <tr>\n",
       "      <th>2023-04-03</th>\n",
       "      <td>1.796608</td>\n",
       "      <td>1.531741</td>\n",
       "    </tr>\n",
       "  </tbody>\n",
       "</table>\n",
       "</div>"
      ],
      "text/plain": [
       "                   A         C\n",
       "2023-04-01  1.438660  0.938148\n",
       "2023-04-02 -0.039156 -1.028214\n",
       "2023-04-03  1.796608  1.531741"
      ]
     },
     "execution_count": 173,
     "metadata": {},
     "output_type": "execute_result"
    }
   ],
   "source": [
    "df.iloc[[1,2,3], [0, 2]]"
   ]
  },
  {
   "cell_type": "code",
   "execution_count": 174,
   "metadata": {},
   "outputs": [
    {
     "data": {
      "text/html": [
       "<div>\n",
       "<style scoped>\n",
       "    .dataframe tbody tr th:only-of-type {\n",
       "        vertical-align: middle;\n",
       "    }\n",
       "\n",
       "    .dataframe tbody tr th {\n",
       "        vertical-align: top;\n",
       "    }\n",
       "\n",
       "    .dataframe thead th {\n",
       "        text-align: right;\n",
       "    }\n",
       "</style>\n",
       "<table border=\"1\" class=\"dataframe\">\n",
       "  <thead>\n",
       "    <tr style=\"text-align: right;\">\n",
       "      <th></th>\n",
       "      <th>B</th>\n",
       "      <th>C</th>\n",
       "    </tr>\n",
       "  </thead>\n",
       "  <tbody>\n",
       "    <tr>\n",
       "      <th>2023-03-31</th>\n",
       "      <td>-0.224777</td>\n",
       "      <td>-0.820699</td>\n",
       "    </tr>\n",
       "    <tr>\n",
       "      <th>2023-04-01</th>\n",
       "      <td>1.373752</td>\n",
       "      <td>0.938148</td>\n",
       "    </tr>\n",
       "    <tr>\n",
       "      <th>2023-04-02</th>\n",
       "      <td>1.280429</td>\n",
       "      <td>-1.028214</td>\n",
       "    </tr>\n",
       "    <tr>\n",
       "      <th>2023-04-03</th>\n",
       "      <td>0.043018</td>\n",
       "      <td>1.531741</td>\n",
       "    </tr>\n",
       "    <tr>\n",
       "      <th>2023-04-04</th>\n",
       "      <td>-0.160016</td>\n",
       "      <td>-0.951556</td>\n",
       "    </tr>\n",
       "    <tr>\n",
       "      <th>2023-04-05</th>\n",
       "      <td>0.451059</td>\n",
       "      <td>0.571542</td>\n",
       "    </tr>\n",
       "  </tbody>\n",
       "</table>\n",
       "</div>"
      ],
      "text/plain": [
       "                   B         C\n",
       "2023-03-31 -0.224777 -0.820699\n",
       "2023-04-01  1.373752  0.938148\n",
       "2023-04-02  1.280429 -1.028214\n",
       "2023-04-03  0.043018  1.531741\n",
       "2023-04-04 -0.160016 -0.951556\n",
       "2023-04-05  0.451059  0.571542"
      ]
     },
     "execution_count": 174,
     "metadata": {},
     "output_type": "execute_result"
    }
   ],
   "source": [
    "df.iloc[:, 1:3]"
   ]
  },
  {
   "cell_type": "code",
   "execution_count": 175,
   "metadata": {},
   "outputs": [
    {
     "data": {
      "text/plain": [
       "0.33282701140060256"
      ]
     },
     "execution_count": 175,
     "metadata": {},
     "output_type": "execute_result"
    }
   ],
   "source": [
    "# df.iloc[2,3]\n",
    "df.iat[2,3] # similar to above but fast"
   ]
  },
  {
   "attachments": {},
   "cell_type": "markdown",
   "metadata": {},
   "source": [
    "BOOLEAN INDEXING"
   ]
  },
  {
   "cell_type": "code",
   "execution_count": 176,
   "metadata": {},
   "outputs": [
    {
     "data": {
      "text/plain": [
       "2023-03-31    2.018098\n",
       "2023-04-01    1.438660\n",
       "2023-04-02   -0.039156\n",
       "2023-04-03    1.796608\n",
       "2023-04-04    0.310405\n",
       "2023-04-05   -1.014142\n",
       "Freq: D, Name: A, dtype: float64"
      ]
     },
     "execution_count": 176,
     "metadata": {},
     "output_type": "execute_result"
    }
   ],
   "source": [
    "df[\"A\"]"
   ]
  },
  {
   "cell_type": "code",
   "execution_count": 177,
   "metadata": {},
   "outputs": [
    {
     "data": {
      "text/html": [
       "<div>\n",
       "<style scoped>\n",
       "    .dataframe tbody tr th:only-of-type {\n",
       "        vertical-align: middle;\n",
       "    }\n",
       "\n",
       "    .dataframe tbody tr th {\n",
       "        vertical-align: top;\n",
       "    }\n",
       "\n",
       "    .dataframe thead th {\n",
       "        text-align: right;\n",
       "    }\n",
       "</style>\n",
       "<table border=\"1\" class=\"dataframe\">\n",
       "  <thead>\n",
       "    <tr style=\"text-align: right;\">\n",
       "      <th></th>\n",
       "      <th>A</th>\n",
       "      <th>B</th>\n",
       "      <th>C</th>\n",
       "      <th>D</th>\n",
       "    </tr>\n",
       "  </thead>\n",
       "  <tbody>\n",
       "    <tr>\n",
       "      <th>2023-04-02</th>\n",
       "      <td>-0.039156</td>\n",
       "      <td>1.280429</td>\n",
       "      <td>-1.028214</td>\n",
       "      <td>0.332827</td>\n",
       "    </tr>\n",
       "    <tr>\n",
       "      <th>2023-04-05</th>\n",
       "      <td>-1.014142</td>\n",
       "      <td>0.451059</td>\n",
       "      <td>0.571542</td>\n",
       "      <td>-1.009870</td>\n",
       "    </tr>\n",
       "  </tbody>\n",
       "</table>\n",
       "</div>"
      ],
      "text/plain": [
       "                   A         B         C         D\n",
       "2023-04-02 -0.039156  1.280429 -1.028214  0.332827\n",
       "2023-04-05 -1.014142  0.451059  0.571542 -1.009870"
      ]
     },
     "execution_count": 177,
     "metadata": {},
     "output_type": "execute_result"
    }
   ],
   "source": [
    "df[df[\"A\"] < 0]   # those values for which df[\"A\"] < 0"
   ]
  },
  {
   "cell_type": "code",
   "execution_count": 178,
   "metadata": {},
   "outputs": [
    {
     "data": {
      "text/html": [
       "<div>\n",
       "<style scoped>\n",
       "    .dataframe tbody tr th:only-of-type {\n",
       "        vertical-align: middle;\n",
       "    }\n",
       "\n",
       "    .dataframe tbody tr th {\n",
       "        vertical-align: top;\n",
       "    }\n",
       "\n",
       "    .dataframe thead th {\n",
       "        text-align: right;\n",
       "    }\n",
       "</style>\n",
       "<table border=\"1\" class=\"dataframe\">\n",
       "  <thead>\n",
       "    <tr style=\"text-align: right;\">\n",
       "      <th></th>\n",
       "      <th>A</th>\n",
       "      <th>B</th>\n",
       "      <th>C</th>\n",
       "      <th>D</th>\n",
       "    </tr>\n",
       "  </thead>\n",
       "  <tbody>\n",
       "    <tr>\n",
       "      <th>2023-03-31</th>\n",
       "      <td>2.018098</td>\n",
       "      <td>-0.224777</td>\n",
       "      <td>-0.820699</td>\n",
       "      <td>1.238960</td>\n",
       "    </tr>\n",
       "    <tr>\n",
       "      <th>2023-04-01</th>\n",
       "      <td>1.438660</td>\n",
       "      <td>1.373752</td>\n",
       "      <td>0.938148</td>\n",
       "      <td>0.830741</td>\n",
       "    </tr>\n",
       "    <tr>\n",
       "      <th>2023-04-03</th>\n",
       "      <td>1.796608</td>\n",
       "      <td>0.043018</td>\n",
       "      <td>1.531741</td>\n",
       "      <td>-0.599041</td>\n",
       "    </tr>\n",
       "    <tr>\n",
       "      <th>2023-04-04</th>\n",
       "      <td>0.310405</td>\n",
       "      <td>-0.160016</td>\n",
       "      <td>-0.951556</td>\n",
       "      <td>0.365554</td>\n",
       "    </tr>\n",
       "  </tbody>\n",
       "</table>\n",
       "</div>"
      ],
      "text/plain": [
       "                   A         B         C         D\n",
       "2023-03-31  2.018098 -0.224777 -0.820699  1.238960\n",
       "2023-04-01  1.438660  1.373752  0.938148  0.830741\n",
       "2023-04-03  1.796608  0.043018  1.531741 -0.599041\n",
       "2023-04-04  0.310405 -0.160016 -0.951556  0.365554"
      ]
     },
     "execution_count": 178,
     "metadata": {},
     "output_type": "execute_result"
    }
   ],
   "source": [
    "df[df[\"A\"] > 0]"
   ]
  },
  {
   "cell_type": "code",
   "execution_count": 179,
   "metadata": {},
   "outputs": [
    {
     "data": {
      "text/html": [
       "<div>\n",
       "<style scoped>\n",
       "    .dataframe tbody tr th:only-of-type {\n",
       "        vertical-align: middle;\n",
       "    }\n",
       "\n",
       "    .dataframe tbody tr th {\n",
       "        vertical-align: top;\n",
       "    }\n",
       "\n",
       "    .dataframe thead th {\n",
       "        text-align: right;\n",
       "    }\n",
       "</style>\n",
       "<table border=\"1\" class=\"dataframe\">\n",
       "  <thead>\n",
       "    <tr style=\"text-align: right;\">\n",
       "      <th></th>\n",
       "      <th>A</th>\n",
       "      <th>B</th>\n",
       "      <th>C</th>\n",
       "      <th>D</th>\n",
       "    </tr>\n",
       "  </thead>\n",
       "  <tbody>\n",
       "    <tr>\n",
       "      <th>2023-03-31</th>\n",
       "      <td>2.018098</td>\n",
       "      <td>NaN</td>\n",
       "      <td>NaN</td>\n",
       "      <td>1.238960</td>\n",
       "    </tr>\n",
       "    <tr>\n",
       "      <th>2023-04-01</th>\n",
       "      <td>1.438660</td>\n",
       "      <td>1.373752</td>\n",
       "      <td>0.938148</td>\n",
       "      <td>0.830741</td>\n",
       "    </tr>\n",
       "    <tr>\n",
       "      <th>2023-04-02</th>\n",
       "      <td>NaN</td>\n",
       "      <td>1.280429</td>\n",
       "      <td>NaN</td>\n",
       "      <td>0.332827</td>\n",
       "    </tr>\n",
       "    <tr>\n",
       "      <th>2023-04-03</th>\n",
       "      <td>1.796608</td>\n",
       "      <td>0.043018</td>\n",
       "      <td>1.531741</td>\n",
       "      <td>NaN</td>\n",
       "    </tr>\n",
       "    <tr>\n",
       "      <th>2023-04-04</th>\n",
       "      <td>0.310405</td>\n",
       "      <td>NaN</td>\n",
       "      <td>NaN</td>\n",
       "      <td>0.365554</td>\n",
       "    </tr>\n",
       "    <tr>\n",
       "      <th>2023-04-05</th>\n",
       "      <td>NaN</td>\n",
       "      <td>0.451059</td>\n",
       "      <td>0.571542</td>\n",
       "      <td>NaN</td>\n",
       "    </tr>\n",
       "  </tbody>\n",
       "</table>\n",
       "</div>"
      ],
      "text/plain": [
       "                   A         B         C         D\n",
       "2023-03-31  2.018098       NaN       NaN  1.238960\n",
       "2023-04-01  1.438660  1.373752  0.938148  0.830741\n",
       "2023-04-02       NaN  1.280429       NaN  0.332827\n",
       "2023-04-03  1.796608  0.043018  1.531741       NaN\n",
       "2023-04-04  0.310405       NaN       NaN  0.365554\n",
       "2023-04-05       NaN  0.451059  0.571542       NaN"
      ]
     },
     "execution_count": 179,
     "metadata": {},
     "output_type": "execute_result"
    }
   ],
   "source": [
    "df[df > 0]  #where thsi boolean condition is met"
   ]
  },
  {
   "attachments": {},
   "cell_type": "markdown",
   "metadata": {},
   "source": [
    "using isin() method for filtering"
   ]
  },
  {
   "cell_type": "code",
   "execution_count": 180,
   "metadata": {},
   "outputs": [
    {
     "data": {
      "text/plain": [
       "4"
      ]
     },
     "execution_count": 180,
     "metadata": {},
     "output_type": "execute_result"
    }
   ],
   "source": [
    "df2\n",
    "len(df2)"
   ]
  },
  {
   "cell_type": "code",
   "execution_count": 181,
   "metadata": {},
   "outputs": [
    {
     "data": {
      "text/html": [
       "<div>\n",
       "<style scoped>\n",
       "    .dataframe tbody tr th:only-of-type {\n",
       "        vertical-align: middle;\n",
       "    }\n",
       "\n",
       "    .dataframe tbody tr th {\n",
       "        vertical-align: top;\n",
       "    }\n",
       "\n",
       "    .dataframe thead th {\n",
       "        text-align: right;\n",
       "    }\n",
       "</style>\n",
       "<table border=\"1\" class=\"dataframe\">\n",
       "  <thead>\n",
       "    <tr style=\"text-align: right;\">\n",
       "      <th></th>\n",
       "      <th>A</th>\n",
       "      <th>B</th>\n",
       "      <th>C</th>\n",
       "      <th>D</th>\n",
       "      <th>E</th>\n",
       "    </tr>\n",
       "  </thead>\n",
       "  <tbody>\n",
       "    <tr>\n",
       "      <th>2023-03-31</th>\n",
       "      <td>2.018098</td>\n",
       "      <td>-0.224777</td>\n",
       "      <td>-0.820699</td>\n",
       "      <td>1.238960</td>\n",
       "      <td>one</td>\n",
       "    </tr>\n",
       "    <tr>\n",
       "      <th>2023-04-01</th>\n",
       "      <td>1.438660</td>\n",
       "      <td>1.373752</td>\n",
       "      <td>0.938148</td>\n",
       "      <td>0.830741</td>\n",
       "      <td>two</td>\n",
       "    </tr>\n",
       "    <tr>\n",
       "      <th>2023-04-02</th>\n",
       "      <td>-0.039156</td>\n",
       "      <td>1.280429</td>\n",
       "      <td>-1.028214</td>\n",
       "      <td>0.332827</td>\n",
       "      <td>three</td>\n",
       "    </tr>\n",
       "    <tr>\n",
       "      <th>2023-04-03</th>\n",
       "      <td>1.796608</td>\n",
       "      <td>0.043018</td>\n",
       "      <td>1.531741</td>\n",
       "      <td>-0.599041</td>\n",
       "      <td>four</td>\n",
       "    </tr>\n",
       "    <tr>\n",
       "      <th>2023-04-04</th>\n",
       "      <td>0.310405</td>\n",
       "      <td>-0.160016</td>\n",
       "      <td>-0.951556</td>\n",
       "      <td>0.365554</td>\n",
       "      <td>five</td>\n",
       "    </tr>\n",
       "    <tr>\n",
       "      <th>2023-04-05</th>\n",
       "      <td>-1.014142</td>\n",
       "      <td>0.451059</td>\n",
       "      <td>0.571542</td>\n",
       "      <td>-1.009870</td>\n",
       "      <td>six</td>\n",
       "    </tr>\n",
       "  </tbody>\n",
       "</table>\n",
       "</div>"
      ],
      "text/plain": [
       "                   A         B         C         D      E\n",
       "2023-03-31  2.018098 -0.224777 -0.820699  1.238960    one\n",
       "2023-04-01  1.438660  1.373752  0.938148  0.830741    two\n",
       "2023-04-02 -0.039156  1.280429 -1.028214  0.332827  three\n",
       "2023-04-03  1.796608  0.043018  1.531741 -0.599041   four\n",
       "2023-04-04  0.310405 -0.160016 -0.951556  0.365554   five\n",
       "2023-04-05 -1.014142  0.451059  0.571542 -1.009870    six"
      ]
     },
     "execution_count": 181,
     "metadata": {},
     "output_type": "execute_result"
    }
   ],
   "source": [
    "df2 = df.copy()\n",
    "df2[\"E\"] = [\"one\", \"two\",\"three\", \"four\",\"five\", \"six\"]\n",
    "df2"
   ]
  },
  {
   "cell_type": "code",
   "execution_count": 182,
   "metadata": {},
   "outputs": [
    {
     "data": {
      "text/html": [
       "<div>\n",
       "<style scoped>\n",
       "    .dataframe tbody tr th:only-of-type {\n",
       "        vertical-align: middle;\n",
       "    }\n",
       "\n",
       "    .dataframe tbody tr th {\n",
       "        vertical-align: top;\n",
       "    }\n",
       "\n",
       "    .dataframe thead th {\n",
       "        text-align: right;\n",
       "    }\n",
       "</style>\n",
       "<table border=\"1\" class=\"dataframe\">\n",
       "  <thead>\n",
       "    <tr style=\"text-align: right;\">\n",
       "      <th></th>\n",
       "      <th>A</th>\n",
       "      <th>B</th>\n",
       "      <th>C</th>\n",
       "      <th>D</th>\n",
       "      <th>E</th>\n",
       "    </tr>\n",
       "  </thead>\n",
       "  <tbody>\n",
       "    <tr>\n",
       "      <th>2023-04-01</th>\n",
       "      <td>1.438660</td>\n",
       "      <td>1.373752</td>\n",
       "      <td>0.938148</td>\n",
       "      <td>0.830741</td>\n",
       "      <td>two</td>\n",
       "    </tr>\n",
       "    <tr>\n",
       "      <th>2023-04-03</th>\n",
       "      <td>1.796608</td>\n",
       "      <td>0.043018</td>\n",
       "      <td>1.531741</td>\n",
       "      <td>-0.599041</td>\n",
       "      <td>four</td>\n",
       "    </tr>\n",
       "  </tbody>\n",
       "</table>\n",
       "</div>"
      ],
      "text/plain": [
       "                   A         B         C         D     E\n",
       "2023-04-01  1.438660  1.373752  0.938148  0.830741   two\n",
       "2023-04-03  1.796608  0.043018  1.531741 -0.599041  four"
      ]
     },
     "execution_count": 182,
     "metadata": {},
     "output_type": "execute_result"
    }
   ],
   "source": [
    "df2[df2[\"E\"].isin([\"two\", \"four\"])]"
   ]
  },
  {
   "attachments": {},
   "cell_type": "markdown",
   "metadata": {},
   "source": [
    "Setting"
   ]
  },
  {
   "cell_type": "code",
   "execution_count": 183,
   "metadata": {},
   "outputs": [
    {
     "data": {
      "text/plain": [
       "2023-04-01    1\n",
       "2023-04-02    2\n",
       "2023-04-03    3\n",
       "2023-04-04    4\n",
       "2023-04-05    5\n",
       "2023-04-06    6\n",
       "Freq: D, dtype: int64"
      ]
     },
     "execution_count": 183,
     "metadata": {},
     "output_type": "execute_result"
    }
   ],
   "source": [
    "s1 = pd.Series([1,2,3,4,5,6], index= pd.date_range(\"20230401\", periods= 6))\n",
    "s1"
   ]
  },
  {
   "cell_type": "code",
   "execution_count": 184,
   "metadata": {},
   "outputs": [
    {
     "data": {
      "text/html": [
       "<div>\n",
       "<style scoped>\n",
       "    .dataframe tbody tr th:only-of-type {\n",
       "        vertical-align: middle;\n",
       "    }\n",
       "\n",
       "    .dataframe tbody tr th {\n",
       "        vertical-align: top;\n",
       "    }\n",
       "\n",
       "    .dataframe thead th {\n",
       "        text-align: right;\n",
       "    }\n",
       "</style>\n",
       "<table border=\"1\" class=\"dataframe\">\n",
       "  <thead>\n",
       "    <tr style=\"text-align: right;\">\n",
       "      <th></th>\n",
       "      <th>A</th>\n",
       "      <th>B</th>\n",
       "      <th>C</th>\n",
       "      <th>D</th>\n",
       "      <th>E</th>\n",
       "      <th>F</th>\n",
       "    </tr>\n",
       "  </thead>\n",
       "  <tbody>\n",
       "    <tr>\n",
       "      <th>2023-03-31</th>\n",
       "      <td>2.018098</td>\n",
       "      <td>-0.224777</td>\n",
       "      <td>-0.820699</td>\n",
       "      <td>1.238960</td>\n",
       "      <td>one</td>\n",
       "      <td>NaN</td>\n",
       "    </tr>\n",
       "    <tr>\n",
       "      <th>2023-04-01</th>\n",
       "      <td>1.438660</td>\n",
       "      <td>1.373752</td>\n",
       "      <td>0.938148</td>\n",
       "      <td>0.830741</td>\n",
       "      <td>two</td>\n",
       "      <td>1.0</td>\n",
       "    </tr>\n",
       "    <tr>\n",
       "      <th>2023-04-02</th>\n",
       "      <td>-0.039156</td>\n",
       "      <td>1.280429</td>\n",
       "      <td>-1.028214</td>\n",
       "      <td>0.332827</td>\n",
       "      <td>three</td>\n",
       "      <td>2.0</td>\n",
       "    </tr>\n",
       "    <tr>\n",
       "      <th>2023-04-03</th>\n",
       "      <td>1.796608</td>\n",
       "      <td>0.043018</td>\n",
       "      <td>1.531741</td>\n",
       "      <td>-0.599041</td>\n",
       "      <td>four</td>\n",
       "      <td>3.0</td>\n",
       "    </tr>\n",
       "    <tr>\n",
       "      <th>2023-04-04</th>\n",
       "      <td>0.310405</td>\n",
       "      <td>-0.160016</td>\n",
       "      <td>-0.951556</td>\n",
       "      <td>0.365554</td>\n",
       "      <td>five</td>\n",
       "      <td>4.0</td>\n",
       "    </tr>\n",
       "    <tr>\n",
       "      <th>2023-04-05</th>\n",
       "      <td>-1.014142</td>\n",
       "      <td>0.451059</td>\n",
       "      <td>0.571542</td>\n",
       "      <td>-1.009870</td>\n",
       "      <td>six</td>\n",
       "      <td>5.0</td>\n",
       "    </tr>\n",
       "  </tbody>\n",
       "</table>\n",
       "</div>"
      ],
      "text/plain": [
       "                   A         B         C         D      E    F\n",
       "2023-03-31  2.018098 -0.224777 -0.820699  1.238960    one  NaN\n",
       "2023-04-01  1.438660  1.373752  0.938148  0.830741    two  1.0\n",
       "2023-04-02 -0.039156  1.280429 -1.028214  0.332827  three  2.0\n",
       "2023-04-03  1.796608  0.043018  1.531741 -0.599041   four  3.0\n",
       "2023-04-04  0.310405 -0.160016 -0.951556  0.365554   five  4.0\n",
       "2023-04-05 -1.014142  0.451059  0.571542 -1.009870    six  5.0"
      ]
     },
     "execution_count": 184,
     "metadata": {},
     "output_type": "execute_result"
    }
   ],
   "source": [
    "df2[\"F\"] = s1\n",
    "df2"
   ]
  },
  {
   "cell_type": "code",
   "execution_count": 185,
   "metadata": {},
   "outputs": [
    {
     "data": {
      "text/html": [
       "<div>\n",
       "<style scoped>\n",
       "    .dataframe tbody tr th:only-of-type {\n",
       "        vertical-align: middle;\n",
       "    }\n",
       "\n",
       "    .dataframe tbody tr th {\n",
       "        vertical-align: top;\n",
       "    }\n",
       "\n",
       "    .dataframe thead th {\n",
       "        text-align: right;\n",
       "    }\n",
       "</style>\n",
       "<table border=\"1\" class=\"dataframe\">\n",
       "  <thead>\n",
       "    <tr style=\"text-align: right;\">\n",
       "      <th></th>\n",
       "      <th>A</th>\n",
       "      <th>B</th>\n",
       "      <th>C</th>\n",
       "      <th>D</th>\n",
       "      <th>E</th>\n",
       "      <th>F</th>\n",
       "    </tr>\n",
       "  </thead>\n",
       "  <tbody>\n",
       "    <tr>\n",
       "      <th>2023-03-31</th>\n",
       "      <td>0.000000</td>\n",
       "      <td>-0.224777</td>\n",
       "      <td>-0.820699</td>\n",
       "      <td>1.238960</td>\n",
       "      <td>one</td>\n",
       "      <td>NaN</td>\n",
       "    </tr>\n",
       "    <tr>\n",
       "      <th>2023-04-01</th>\n",
       "      <td>1.438660</td>\n",
       "      <td>1.373752</td>\n",
       "      <td>0.938148</td>\n",
       "      <td>0.830741</td>\n",
       "      <td>two</td>\n",
       "      <td>1.0</td>\n",
       "    </tr>\n",
       "    <tr>\n",
       "      <th>2023-04-02</th>\n",
       "      <td>-0.039156</td>\n",
       "      <td>1.280429</td>\n",
       "      <td>-1.028214</td>\n",
       "      <td>0.332827</td>\n",
       "      <td>three</td>\n",
       "      <td>2.0</td>\n",
       "    </tr>\n",
       "    <tr>\n",
       "      <th>2023-04-03</th>\n",
       "      <td>1.796608</td>\n",
       "      <td>0.043018</td>\n",
       "      <td>1.531741</td>\n",
       "      <td>-0.599041</td>\n",
       "      <td>four</td>\n",
       "      <td>3.0</td>\n",
       "    </tr>\n",
       "    <tr>\n",
       "      <th>2023-04-04</th>\n",
       "      <td>0.310405</td>\n",
       "      <td>-0.160016</td>\n",
       "      <td>-0.951556</td>\n",
       "      <td>0.365554</td>\n",
       "      <td>five</td>\n",
       "      <td>4.0</td>\n",
       "    </tr>\n",
       "    <tr>\n",
       "      <th>2023-04-05</th>\n",
       "      <td>-1.014142</td>\n",
       "      <td>0.451059</td>\n",
       "      <td>0.571542</td>\n",
       "      <td>-1.009870</td>\n",
       "      <td>six</td>\n",
       "      <td>5.0</td>\n",
       "    </tr>\n",
       "  </tbody>\n",
       "</table>\n",
       "</div>"
      ],
      "text/plain": [
       "                   A         B         C         D      E    F\n",
       "2023-03-31  0.000000 -0.224777 -0.820699  1.238960    one  NaN\n",
       "2023-04-01  1.438660  1.373752  0.938148  0.830741    two  1.0\n",
       "2023-04-02 -0.039156  1.280429 -1.028214  0.332827  three  2.0\n",
       "2023-04-03  1.796608  0.043018  1.531741 -0.599041   four  3.0\n",
       "2023-04-04  0.310405 -0.160016 -0.951556  0.365554   five  4.0\n",
       "2023-04-05 -1.014142  0.451059  0.571542 -1.009870    six  5.0"
      ]
     },
     "execution_count": 185,
     "metadata": {},
     "output_type": "execute_result"
    }
   ],
   "source": [
    "df2.at[dates[0] , \"A\"] = 0\n",
    "df2"
   ]
  },
  {
   "cell_type": "code",
   "execution_count": 186,
   "metadata": {},
   "outputs": [
    {
     "data": {
      "text/html": [
       "<div>\n",
       "<style scoped>\n",
       "    .dataframe tbody tr th:only-of-type {\n",
       "        vertical-align: middle;\n",
       "    }\n",
       "\n",
       "    .dataframe tbody tr th {\n",
       "        vertical-align: top;\n",
       "    }\n",
       "\n",
       "    .dataframe thead th {\n",
       "        text-align: right;\n",
       "    }\n",
       "</style>\n",
       "<table border=\"1\" class=\"dataframe\">\n",
       "  <thead>\n",
       "    <tr style=\"text-align: right;\">\n",
       "      <th></th>\n",
       "      <th>A</th>\n",
       "      <th>B</th>\n",
       "      <th>C</th>\n",
       "      <th>D</th>\n",
       "      <th>E</th>\n",
       "      <th>F</th>\n",
       "    </tr>\n",
       "  </thead>\n",
       "  <tbody>\n",
       "    <tr>\n",
       "      <th>2023-03-31</th>\n",
       "      <td>0.000000</td>\n",
       "      <td>0.000000</td>\n",
       "      <td>-0.820699</td>\n",
       "      <td>1.238960</td>\n",
       "      <td>one</td>\n",
       "      <td>NaN</td>\n",
       "    </tr>\n",
       "    <tr>\n",
       "      <th>2023-04-01</th>\n",
       "      <td>1.438660</td>\n",
       "      <td>1.373752</td>\n",
       "      <td>0.938148</td>\n",
       "      <td>0.830741</td>\n",
       "      <td>two</td>\n",
       "      <td>1.0</td>\n",
       "    </tr>\n",
       "    <tr>\n",
       "      <th>2023-04-02</th>\n",
       "      <td>-0.039156</td>\n",
       "      <td>1.280429</td>\n",
       "      <td>-1.028214</td>\n",
       "      <td>0.332827</td>\n",
       "      <td>three</td>\n",
       "      <td>2.0</td>\n",
       "    </tr>\n",
       "    <tr>\n",
       "      <th>2023-04-03</th>\n",
       "      <td>1.796608</td>\n",
       "      <td>0.043018</td>\n",
       "      <td>1.531741</td>\n",
       "      <td>-0.599041</td>\n",
       "      <td>four</td>\n",
       "      <td>3.0</td>\n",
       "    </tr>\n",
       "    <tr>\n",
       "      <th>2023-04-04</th>\n",
       "      <td>0.310405</td>\n",
       "      <td>-0.160016</td>\n",
       "      <td>-0.951556</td>\n",
       "      <td>0.365554</td>\n",
       "      <td>five</td>\n",
       "      <td>4.0</td>\n",
       "    </tr>\n",
       "    <tr>\n",
       "      <th>2023-04-05</th>\n",
       "      <td>-1.014142</td>\n",
       "      <td>0.451059</td>\n",
       "      <td>0.571542</td>\n",
       "      <td>-1.009870</td>\n",
       "      <td>six</td>\n",
       "      <td>5.0</td>\n",
       "    </tr>\n",
       "  </tbody>\n",
       "</table>\n",
       "</div>"
      ],
      "text/plain": [
       "                   A         B         C         D      E    F\n",
       "2023-03-31  0.000000  0.000000 -0.820699  1.238960    one  NaN\n",
       "2023-04-01  1.438660  1.373752  0.938148  0.830741    two  1.0\n",
       "2023-04-02 -0.039156  1.280429 -1.028214  0.332827  three  2.0\n",
       "2023-04-03  1.796608  0.043018  1.531741 -0.599041   four  3.0\n",
       "2023-04-04  0.310405 -0.160016 -0.951556  0.365554   five  4.0\n",
       "2023-04-05 -1.014142  0.451059  0.571542 -1.009870    six  5.0"
      ]
     },
     "execution_count": 186,
     "metadata": {},
     "output_type": "execute_result"
    }
   ],
   "source": [
    "df2.iat[0,1] = 0\n",
    "df2"
   ]
  },
  {
   "cell_type": "code",
   "execution_count": 187,
   "metadata": {},
   "outputs": [
    {
     "name": "stderr",
     "output_type": "stream",
     "text": [
      "C:\\Users\\HP\\AppData\\Local\\Temp\\ipykernel_26532\\4033176749.py:1: FutureWarning: In a future version, `df.iloc[:, i] = newvals` will attempt to set the values inplace instead of always setting a new array. To retain the old behavior, use either `df[df.columns[i]] = newvals` or, if columns are non-unique, `df.isetitem(i, newvals)`\n",
      "  df2.loc[:, \"D\"] = np.array([5] * len(df2))\n"
     ]
    }
   ],
   "source": [
    "df2.loc[:, \"D\"] = np.array([5] * len(df2))\n"
   ]
  },
  {
   "attachments": {},
   "cell_type": "markdown",
   "metadata": {},
   "source": [
    "A where operation with setting"
   ]
  },
  {
   "cell_type": "code",
   "execution_count": 188,
   "metadata": {},
   "outputs": [
    {
     "data": {
      "text/html": [
       "<div>\n",
       "<style scoped>\n",
       "    .dataframe tbody tr th:only-of-type {\n",
       "        vertical-align: middle;\n",
       "    }\n",
       "\n",
       "    .dataframe tbody tr th {\n",
       "        vertical-align: top;\n",
       "    }\n",
       "\n",
       "    .dataframe thead th {\n",
       "        text-align: right;\n",
       "    }\n",
       "</style>\n",
       "<table border=\"1\" class=\"dataframe\">\n",
       "  <thead>\n",
       "    <tr style=\"text-align: right;\">\n",
       "      <th></th>\n",
       "      <th>A</th>\n",
       "      <th>B</th>\n",
       "      <th>C</th>\n",
       "      <th>D</th>\n",
       "    </tr>\n",
       "  </thead>\n",
       "  <tbody>\n",
       "    <tr>\n",
       "      <th>2023-03-31</th>\n",
       "      <td>-2.018098</td>\n",
       "      <td>-0.224777</td>\n",
       "      <td>-0.820699</td>\n",
       "      <td>-1.238960</td>\n",
       "    </tr>\n",
       "    <tr>\n",
       "      <th>2023-04-01</th>\n",
       "      <td>-1.438660</td>\n",
       "      <td>-1.373752</td>\n",
       "      <td>-0.938148</td>\n",
       "      <td>-0.830741</td>\n",
       "    </tr>\n",
       "    <tr>\n",
       "      <th>2023-04-02</th>\n",
       "      <td>-0.039156</td>\n",
       "      <td>-1.280429</td>\n",
       "      <td>-1.028214</td>\n",
       "      <td>-0.332827</td>\n",
       "    </tr>\n",
       "    <tr>\n",
       "      <th>2023-04-03</th>\n",
       "      <td>-1.796608</td>\n",
       "      <td>-0.043018</td>\n",
       "      <td>-1.531741</td>\n",
       "      <td>-0.599041</td>\n",
       "    </tr>\n",
       "    <tr>\n",
       "      <th>2023-04-04</th>\n",
       "      <td>-0.310405</td>\n",
       "      <td>-0.160016</td>\n",
       "      <td>-0.951556</td>\n",
       "      <td>-0.365554</td>\n",
       "    </tr>\n",
       "    <tr>\n",
       "      <th>2023-04-05</th>\n",
       "      <td>-1.014142</td>\n",
       "      <td>-0.451059</td>\n",
       "      <td>-0.571542</td>\n",
       "      <td>-1.009870</td>\n",
       "    </tr>\n",
       "  </tbody>\n",
       "</table>\n",
       "</div>"
      ],
      "text/plain": [
       "                   A         B         C         D\n",
       "2023-03-31 -2.018098 -0.224777 -0.820699 -1.238960\n",
       "2023-04-01 -1.438660 -1.373752 -0.938148 -0.830741\n",
       "2023-04-02 -0.039156 -1.280429 -1.028214 -0.332827\n",
       "2023-04-03 -1.796608 -0.043018 -1.531741 -0.599041\n",
       "2023-04-04 -0.310405 -0.160016 -0.951556 -0.365554\n",
       "2023-04-05 -1.014142 -0.451059 -0.571542 -1.009870"
      ]
     },
     "execution_count": 188,
     "metadata": {},
     "output_type": "execute_result"
    }
   ],
   "source": [
    "df3 = df.copy() \n",
    "df3 [df3 > 0] = -df3\n",
    "df3"
   ]
  },
  {
   "attachments": {},
   "cell_type": "markdown",
   "metadata": {},
   "source": [
    "Missing data"
   ]
  },
  {
   "cell_type": "code",
   "execution_count": 189,
   "metadata": {},
   "outputs": [
    {
     "data": {
      "text/html": [
       "<div>\n",
       "<style scoped>\n",
       "    .dataframe tbody tr th:only-of-type {\n",
       "        vertical-align: middle;\n",
       "    }\n",
       "\n",
       "    .dataframe tbody tr th {\n",
       "        vertical-align: top;\n",
       "    }\n",
       "\n",
       "    .dataframe thead th {\n",
       "        text-align: right;\n",
       "    }\n",
       "</style>\n",
       "<table border=\"1\" class=\"dataframe\">\n",
       "  <thead>\n",
       "    <tr style=\"text-align: right;\">\n",
       "      <th></th>\n",
       "      <th>A</th>\n",
       "      <th>B</th>\n",
       "      <th>C</th>\n",
       "      <th>D</th>\n",
       "      <th>E</th>\n",
       "    </tr>\n",
       "  </thead>\n",
       "  <tbody>\n",
       "    <tr>\n",
       "      <th>2023-03-31</th>\n",
       "      <td>2.018098</td>\n",
       "      <td>-0.224777</td>\n",
       "      <td>-0.820699</td>\n",
       "      <td>1.238960</td>\n",
       "      <td>NaN</td>\n",
       "    </tr>\n",
       "    <tr>\n",
       "      <th>2023-04-01</th>\n",
       "      <td>1.438660</td>\n",
       "      <td>1.373752</td>\n",
       "      <td>0.938148</td>\n",
       "      <td>0.830741</td>\n",
       "      <td>NaN</td>\n",
       "    </tr>\n",
       "    <tr>\n",
       "      <th>2023-04-02</th>\n",
       "      <td>-0.039156</td>\n",
       "      <td>1.280429</td>\n",
       "      <td>-1.028214</td>\n",
       "      <td>0.332827</td>\n",
       "      <td>NaN</td>\n",
       "    </tr>\n",
       "    <tr>\n",
       "      <th>2023-04-03</th>\n",
       "      <td>1.796608</td>\n",
       "      <td>0.043018</td>\n",
       "      <td>1.531741</td>\n",
       "      <td>-0.599041</td>\n",
       "      <td>NaN</td>\n",
       "    </tr>\n",
       "  </tbody>\n",
       "</table>\n",
       "</div>"
      ],
      "text/plain": [
       "                   A         B         C         D   E\n",
       "2023-03-31  2.018098 -0.224777 -0.820699  1.238960 NaN\n",
       "2023-04-01  1.438660  1.373752  0.938148  0.830741 NaN\n",
       "2023-04-02 -0.039156  1.280429 -1.028214  0.332827 NaN\n",
       "2023-04-03  1.796608  0.043018  1.531741 -0.599041 NaN"
      ]
     },
     "execution_count": 189,
     "metadata": {},
     "output_type": "execute_result"
    }
   ],
   "source": [
    "df1 = df.reindex(index=dates[0:4], columns= list(df.columns) + [\"E\"])\n",
    "df1"
   ]
  },
  {
   "cell_type": "code",
   "execution_count": 190,
   "metadata": {},
   "outputs": [
    {
     "data": {
      "text/html": [
       "<div>\n",
       "<style scoped>\n",
       "    .dataframe tbody tr th:only-of-type {\n",
       "        vertical-align: middle;\n",
       "    }\n",
       "\n",
       "    .dataframe tbody tr th {\n",
       "        vertical-align: top;\n",
       "    }\n",
       "\n",
       "    .dataframe thead th {\n",
       "        text-align: right;\n",
       "    }\n",
       "</style>\n",
       "<table border=\"1\" class=\"dataframe\">\n",
       "  <thead>\n",
       "    <tr style=\"text-align: right;\">\n",
       "      <th></th>\n",
       "      <th>A</th>\n",
       "      <th>B</th>\n",
       "      <th>C</th>\n",
       "      <th>D</th>\n",
       "      <th>E</th>\n",
       "    </tr>\n",
       "  </thead>\n",
       "  <tbody>\n",
       "    <tr>\n",
       "      <th>2023-03-31</th>\n",
       "      <td>2.018098</td>\n",
       "      <td>-0.224777</td>\n",
       "      <td>-0.820699</td>\n",
       "      <td>1.238960</td>\n",
       "      <td>3.0</td>\n",
       "    </tr>\n",
       "    <tr>\n",
       "      <th>2023-04-01</th>\n",
       "      <td>1.438660</td>\n",
       "      <td>1.373752</td>\n",
       "      <td>0.938148</td>\n",
       "      <td>0.830741</td>\n",
       "      <td>3.0</td>\n",
       "    </tr>\n",
       "    <tr>\n",
       "      <th>2023-04-02</th>\n",
       "      <td>-0.039156</td>\n",
       "      <td>1.280429</td>\n",
       "      <td>-1.028214</td>\n",
       "      <td>0.332827</td>\n",
       "      <td>NaN</td>\n",
       "    </tr>\n",
       "    <tr>\n",
       "      <th>2023-04-03</th>\n",
       "      <td>1.796608</td>\n",
       "      <td>0.043018</td>\n",
       "      <td>1.531741</td>\n",
       "      <td>-0.599041</td>\n",
       "      <td>NaN</td>\n",
       "    </tr>\n",
       "  </tbody>\n",
       "</table>\n",
       "</div>"
      ],
      "text/plain": [
       "                   A         B         C         D    E\n",
       "2023-03-31  2.018098 -0.224777 -0.820699  1.238960  3.0\n",
       "2023-04-01  1.438660  1.373752  0.938148  0.830741  3.0\n",
       "2023-04-02 -0.039156  1.280429 -1.028214  0.332827  NaN\n",
       "2023-04-03  1.796608  0.043018  1.531741 -0.599041  NaN"
      ]
     },
     "execution_count": 190,
     "metadata": {},
     "output_type": "execute_result"
    }
   ],
   "source": [
    "df1.loc[dates[0]:dates[1] , \"E\"] = 3\n",
    "df1"
   ]
  },
  {
   "attachments": {},
   "cell_type": "markdown",
   "metadata": {},
   "source": [
    "DataFrame.dropna() drops any rows that have missing data:"
   ]
  },
  {
   "cell_type": "code",
   "execution_count": 191,
   "metadata": {},
   "outputs": [
    {
     "data": {
      "text/html": [
       "<div>\n",
       "<style scoped>\n",
       "    .dataframe tbody tr th:only-of-type {\n",
       "        vertical-align: middle;\n",
       "    }\n",
       "\n",
       "    .dataframe tbody tr th {\n",
       "        vertical-align: top;\n",
       "    }\n",
       "\n",
       "    .dataframe thead th {\n",
       "        text-align: right;\n",
       "    }\n",
       "</style>\n",
       "<table border=\"1\" class=\"dataframe\">\n",
       "  <thead>\n",
       "    <tr style=\"text-align: right;\">\n",
       "      <th></th>\n",
       "      <th>A</th>\n",
       "      <th>B</th>\n",
       "      <th>C</th>\n",
       "      <th>D</th>\n",
       "      <th>E</th>\n",
       "    </tr>\n",
       "  </thead>\n",
       "  <tbody>\n",
       "    <tr>\n",
       "      <th>2023-03-31</th>\n",
       "      <td>2.018098</td>\n",
       "      <td>-0.224777</td>\n",
       "      <td>-0.820699</td>\n",
       "      <td>1.238960</td>\n",
       "      <td>3.0</td>\n",
       "    </tr>\n",
       "    <tr>\n",
       "      <th>2023-04-01</th>\n",
       "      <td>1.438660</td>\n",
       "      <td>1.373752</td>\n",
       "      <td>0.938148</td>\n",
       "      <td>0.830741</td>\n",
       "      <td>3.0</td>\n",
       "    </tr>\n",
       "  </tbody>\n",
       "</table>\n",
       "</div>"
      ],
      "text/plain": [
       "                   A         B         C         D    E\n",
       "2023-03-31  2.018098 -0.224777 -0.820699  1.238960  3.0\n",
       "2023-04-01  1.438660  1.373752  0.938148  0.830741  3.0"
      ]
     },
     "execution_count": 191,
     "metadata": {},
     "output_type": "execute_result"
    }
   ],
   "source": [
    "df1.dropna(how=\"any\")"
   ]
  },
  {
   "attachments": {},
   "cell_type": "markdown",
   "metadata": {},
   "source": [
    "dataframe.fillna() fills missing data:"
   ]
  },
  {
   "cell_type": "code",
   "execution_count": 192,
   "metadata": {},
   "outputs": [
    {
     "data": {
      "text/html": [
       "<div>\n",
       "<style scoped>\n",
       "    .dataframe tbody tr th:only-of-type {\n",
       "        vertical-align: middle;\n",
       "    }\n",
       "\n",
       "    .dataframe tbody tr th {\n",
       "        vertical-align: top;\n",
       "    }\n",
       "\n",
       "    .dataframe thead th {\n",
       "        text-align: right;\n",
       "    }\n",
       "</style>\n",
       "<table border=\"1\" class=\"dataframe\">\n",
       "  <thead>\n",
       "    <tr style=\"text-align: right;\">\n",
       "      <th></th>\n",
       "      <th>A</th>\n",
       "      <th>B</th>\n",
       "      <th>C</th>\n",
       "      <th>D</th>\n",
       "      <th>E</th>\n",
       "    </tr>\n",
       "  </thead>\n",
       "  <tbody>\n",
       "    <tr>\n",
       "      <th>2023-03-31</th>\n",
       "      <td>2.018098</td>\n",
       "      <td>-0.224777</td>\n",
       "      <td>-0.820699</td>\n",
       "      <td>1.238960</td>\n",
       "      <td>3.0</td>\n",
       "    </tr>\n",
       "    <tr>\n",
       "      <th>2023-04-01</th>\n",
       "      <td>1.438660</td>\n",
       "      <td>1.373752</td>\n",
       "      <td>0.938148</td>\n",
       "      <td>0.830741</td>\n",
       "      <td>3.0</td>\n",
       "    </tr>\n",
       "    <tr>\n",
       "      <th>2023-04-02</th>\n",
       "      <td>-0.039156</td>\n",
       "      <td>1.280429</td>\n",
       "      <td>-1.028214</td>\n",
       "      <td>0.332827</td>\n",
       "      <td>5.0</td>\n",
       "    </tr>\n",
       "    <tr>\n",
       "      <th>2023-04-03</th>\n",
       "      <td>1.796608</td>\n",
       "      <td>0.043018</td>\n",
       "      <td>1.531741</td>\n",
       "      <td>-0.599041</td>\n",
       "      <td>5.0</td>\n",
       "    </tr>\n",
       "  </tbody>\n",
       "</table>\n",
       "</div>"
      ],
      "text/plain": [
       "                   A         B         C         D    E\n",
       "2023-03-31  2.018098 -0.224777 -0.820699  1.238960  3.0\n",
       "2023-04-01  1.438660  1.373752  0.938148  0.830741  3.0\n",
       "2023-04-02 -0.039156  1.280429 -1.028214  0.332827  5.0\n",
       "2023-04-03  1.796608  0.043018  1.531741 -0.599041  5.0"
      ]
     },
     "execution_count": 192,
     "metadata": {},
     "output_type": "execute_result"
    }
   ],
   "source": [
    "df1.fillna(value=5)"
   ]
  },
  {
   "attachments": {},
   "cell_type": "markdown",
   "metadata": {},
   "source": [
    "isna() gets a boolean mask where values are nan:"
   ]
  },
  {
   "cell_type": "code",
   "execution_count": 193,
   "metadata": {},
   "outputs": [
    {
     "data": {
      "text/html": [
       "<div>\n",
       "<style scoped>\n",
       "    .dataframe tbody tr th:only-of-type {\n",
       "        vertical-align: middle;\n",
       "    }\n",
       "\n",
       "    .dataframe tbody tr th {\n",
       "        vertical-align: top;\n",
       "    }\n",
       "\n",
       "    .dataframe thead th {\n",
       "        text-align: right;\n",
       "    }\n",
       "</style>\n",
       "<table border=\"1\" class=\"dataframe\">\n",
       "  <thead>\n",
       "    <tr style=\"text-align: right;\">\n",
       "      <th></th>\n",
       "      <th>A</th>\n",
       "      <th>B</th>\n",
       "      <th>C</th>\n",
       "      <th>D</th>\n",
       "      <th>E</th>\n",
       "    </tr>\n",
       "  </thead>\n",
       "  <tbody>\n",
       "    <tr>\n",
       "      <th>2023-03-31</th>\n",
       "      <td>False</td>\n",
       "      <td>False</td>\n",
       "      <td>False</td>\n",
       "      <td>False</td>\n",
       "      <td>False</td>\n",
       "    </tr>\n",
       "    <tr>\n",
       "      <th>2023-04-01</th>\n",
       "      <td>False</td>\n",
       "      <td>False</td>\n",
       "      <td>False</td>\n",
       "      <td>False</td>\n",
       "      <td>False</td>\n",
       "    </tr>\n",
       "    <tr>\n",
       "      <th>2023-04-02</th>\n",
       "      <td>False</td>\n",
       "      <td>False</td>\n",
       "      <td>False</td>\n",
       "      <td>False</td>\n",
       "      <td>True</td>\n",
       "    </tr>\n",
       "    <tr>\n",
       "      <th>2023-04-03</th>\n",
       "      <td>False</td>\n",
       "      <td>False</td>\n",
       "      <td>False</td>\n",
       "      <td>False</td>\n",
       "      <td>True</td>\n",
       "    </tr>\n",
       "  </tbody>\n",
       "</table>\n",
       "</div>"
      ],
      "text/plain": [
       "                A      B      C      D      E\n",
       "2023-03-31  False  False  False  False  False\n",
       "2023-04-01  False  False  False  False  False\n",
       "2023-04-02  False  False  False  False   True\n",
       "2023-04-03  False  False  False  False   True"
      ]
     },
     "execution_count": 193,
     "metadata": {},
     "output_type": "execute_result"
    }
   ],
   "source": [
    "pd.isna(df1)"
   ]
  },
  {
   "attachments": {},
   "cell_type": "markdown",
   "metadata": {},
   "source": [
    "Operations"
   ]
  },
  {
   "attachments": {},
   "cell_type": "markdown",
   "metadata": {},
   "source": [
    "stats"
   ]
  },
  {
   "cell_type": "code",
   "execution_count": 194,
   "metadata": {},
   "outputs": [
    {
     "data": {
      "text/plain": [
       "A    0.751745\n",
       "B    0.460577\n",
       "C    0.040160\n",
       "D    0.193195\n",
       "dtype: float64"
      ]
     },
     "execution_count": 194,
     "metadata": {},
     "output_type": "execute_result"
    }
   ],
   "source": [
    "# operations in general exclude missing data\n",
    "df.mean()"
   ]
  },
  {
   "cell_type": "code",
   "execution_count": 195,
   "metadata": {},
   "outputs": [
    {
     "data": {
      "text/plain": [
       "2023-03-31    0.552895\n",
       "2023-04-01    1.145325\n",
       "2023-04-02    0.136472\n",
       "2023-04-03    0.693081\n",
       "2023-04-04   -0.108903\n",
       "2023-04-05   -0.250353\n",
       "Freq: D, dtype: float64"
      ]
     },
     "execution_count": 195,
     "metadata": {},
     "output_type": "execute_result"
    }
   ],
   "source": [
    "df.mean(1)"
   ]
  },
  {
   "attachments": {},
   "cell_type": "markdown",
   "metadata": {},
   "source": [
    "Operating with objects that have different dimensionality and need alignment.\n",
    "In addition, pandas automatically broadcasts along the specified dimension:"
   ]
  },
  {
   "cell_type": "code",
   "execution_count": 196,
   "metadata": {},
   "outputs": [
    {
     "data": {
      "text/plain": [
       "2023-03-31    NaN\n",
       "2023-04-01    NaN\n",
       "2023-04-02    1.0\n",
       "2023-04-03    2.0\n",
       "2023-04-04    3.0\n",
       "2023-04-05    5.0\n",
       "Freq: D, dtype: float64"
      ]
     },
     "execution_count": 196,
     "metadata": {},
     "output_type": "execute_result"
    }
   ],
   "source": [
    "s = pd.Series([1,2,3,5,np.nan,6], index=dates).shift(2)\n",
    "s"
   ]
  },
  {
   "cell_type": "code",
   "execution_count": 197,
   "metadata": {},
   "outputs": [
    {
     "name": "stdout",
     "output_type": "stream",
     "text": [
      "                   A         B         C         D\n",
      "2023-03-31  2.018098 -0.224777 -0.820699  1.238960\n",
      "2023-04-01  1.438660  1.373752  0.938148  0.830741\n",
      "2023-04-02 -0.039156  1.280429 -1.028214  0.332827\n",
      "2023-04-03  1.796608  0.043018  1.531741 -0.599041\n",
      "2023-04-04  0.310405 -0.160016 -0.951556  0.365554\n",
      "2023-04-05 -1.014142  0.451059  0.571542 -1.009870\n"
     ]
    },
    {
     "data": {
      "text/html": [
       "<div>\n",
       "<style scoped>\n",
       "    .dataframe tbody tr th:only-of-type {\n",
       "        vertical-align: middle;\n",
       "    }\n",
       "\n",
       "    .dataframe tbody tr th {\n",
       "        vertical-align: top;\n",
       "    }\n",
       "\n",
       "    .dataframe thead th {\n",
       "        text-align: right;\n",
       "    }\n",
       "</style>\n",
       "<table border=\"1\" class=\"dataframe\">\n",
       "  <thead>\n",
       "    <tr style=\"text-align: right;\">\n",
       "      <th></th>\n",
       "      <th>A</th>\n",
       "      <th>B</th>\n",
       "      <th>C</th>\n",
       "      <th>D</th>\n",
       "    </tr>\n",
       "  </thead>\n",
       "  <tbody>\n",
       "    <tr>\n",
       "      <th>2023-03-31</th>\n",
       "      <td>NaN</td>\n",
       "      <td>NaN</td>\n",
       "      <td>NaN</td>\n",
       "      <td>NaN</td>\n",
       "    </tr>\n",
       "    <tr>\n",
       "      <th>2023-04-01</th>\n",
       "      <td>NaN</td>\n",
       "      <td>NaN</td>\n",
       "      <td>NaN</td>\n",
       "      <td>NaN</td>\n",
       "    </tr>\n",
       "    <tr>\n",
       "      <th>2023-04-02</th>\n",
       "      <td>-1.039156</td>\n",
       "      <td>0.280429</td>\n",
       "      <td>-2.028214</td>\n",
       "      <td>-0.667173</td>\n",
       "    </tr>\n",
       "    <tr>\n",
       "      <th>2023-04-03</th>\n",
       "      <td>-0.203392</td>\n",
       "      <td>-1.956982</td>\n",
       "      <td>-0.468259</td>\n",
       "      <td>-2.599041</td>\n",
       "    </tr>\n",
       "    <tr>\n",
       "      <th>2023-04-04</th>\n",
       "      <td>-2.689595</td>\n",
       "      <td>-3.160016</td>\n",
       "      <td>-3.951556</td>\n",
       "      <td>-2.634446</td>\n",
       "    </tr>\n",
       "    <tr>\n",
       "      <th>2023-04-05</th>\n",
       "      <td>-6.014142</td>\n",
       "      <td>-4.548941</td>\n",
       "      <td>-4.428458</td>\n",
       "      <td>-6.009870</td>\n",
       "    </tr>\n",
       "  </tbody>\n",
       "</table>\n",
       "</div>"
      ],
      "text/plain": [
       "                   A         B         C         D\n",
       "2023-03-31       NaN       NaN       NaN       NaN\n",
       "2023-04-01       NaN       NaN       NaN       NaN\n",
       "2023-04-02 -1.039156  0.280429 -2.028214 -0.667173\n",
       "2023-04-03 -0.203392 -1.956982 -0.468259 -2.599041\n",
       "2023-04-04 -2.689595 -3.160016 -3.951556 -2.634446\n",
       "2023-04-05 -6.014142 -4.548941 -4.428458 -6.009870"
      ]
     },
     "execution_count": 197,
     "metadata": {},
     "output_type": "execute_result"
    }
   ],
   "source": [
    "print(df)\n",
    "df.sub(s,axis=\"index\")"
   ]
  },
  {
   "attachments": {},
   "cell_type": "markdown",
   "metadata": {},
   "source": [
    "domonestation of above example"
   ]
  },
  {
   "cell_type": "code",
   "execution_count": 198,
   "metadata": {},
   "outputs": [],
   "source": [
    "df4 = pd.DataFrame({\n",
    "    'A': [10, 20, 30],\n",
    "    'B': [40, 50, 60],\n",
    "    'C': [70, 80, 90]\n",
    "}\n",
    ")\n",
    "s2 = pd.Series([1, 2, 3])"
   ]
  },
  {
   "attachments": {},
   "cell_type": "markdown",
   "metadata": {},
   "source": [
    "If you are getting NaN values for all elements when subtracting a Series from a DataFrame along the \"columns\" axis, it is likely because the Series and DataFrame do not have the same column labels. When subtracting along the \"columns\" axis, pandas aligns the Series with the columns of the DataFrame based on their labels. If the labels do not match, pandas will not be able to perform the subtraction and will instead return NaN for all elements."
   ]
  },
  {
   "cell_type": "code",
   "execution_count": 199,
   "metadata": {},
   "outputs": [
    {
     "data": {
      "text/html": [
       "<div>\n",
       "<style scoped>\n",
       "    .dataframe tbody tr th:only-of-type {\n",
       "        vertical-align: middle;\n",
       "    }\n",
       "\n",
       "    .dataframe tbody tr th {\n",
       "        vertical-align: top;\n",
       "    }\n",
       "\n",
       "    .dataframe thead th {\n",
       "        text-align: right;\n",
       "    }\n",
       "</style>\n",
       "<table border=\"1\" class=\"dataframe\">\n",
       "  <thead>\n",
       "    <tr style=\"text-align: right;\">\n",
       "      <th></th>\n",
       "      <th>A</th>\n",
       "      <th>B</th>\n",
       "      <th>C</th>\n",
       "    </tr>\n",
       "  </thead>\n",
       "  <tbody>\n",
       "    <tr>\n",
       "      <th>0</th>\n",
       "      <td>9</td>\n",
       "      <td>39</td>\n",
       "      <td>69</td>\n",
       "    </tr>\n",
       "    <tr>\n",
       "      <th>1</th>\n",
       "      <td>18</td>\n",
       "      <td>48</td>\n",
       "      <td>78</td>\n",
       "    </tr>\n",
       "    <tr>\n",
       "      <th>2</th>\n",
       "      <td>27</td>\n",
       "      <td>57</td>\n",
       "      <td>87</td>\n",
       "    </tr>\n",
       "  </tbody>\n",
       "</table>\n",
       "</div>"
      ],
      "text/plain": [
       "    A   B   C\n",
       "0   9  39  69\n",
       "1  18  48  78\n",
       "2  27  57  87"
      ]
     },
     "execution_count": 199,
     "metadata": {},
     "output_type": "execute_result"
    }
   ],
   "source": [
    "df4.sub(s2, axis=\"index\")"
   ]
  },
  {
   "attachments": {},
   "cell_type": "markdown",
   "metadata": {},
   "source": [
    "Apply\n",
    "\n",
    "\n",
    "DataFrame.apply() applies a user defined function to the data"
   ]
  },
  {
   "cell_type": "code",
   "execution_count": null,
   "metadata": {},
   "outputs": [],
   "source": []
  }
 ],
 "metadata": {
  "kernelspec": {
   "display_name": "Python 3",
   "language": "python",
   "name": "python3"
  },
  "language_info": {
   "codemirror_mode": {
    "name": "ipython",
    "version": 3
   },
   "file_extension": ".py",
   "mimetype": "text/x-python",
   "name": "python",
   "nbconvert_exporter": "python",
   "pygments_lexer": "ipython3",
   "version": "3.11.0"
  },
  "orig_nbformat": 4,
  "vscode": {
   "interpreter": {
    "hash": "1f6a27bcfbe46a917dbd192f4a82657396dda26148bae633192e8d28c70725f1"
   }
  }
 },
 "nbformat": 4,
 "nbformat_minor": 2
}
