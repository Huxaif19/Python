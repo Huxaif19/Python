{
 "cells": [
  {
   "attachments": {},
   "cell_type": "markdown",
   "metadata": {},
   "source": [
    "shutil and os module"
   ]
  },
  {
   "cell_type": "code",
   "execution_count": 22,
   "metadata": {},
   "outputs": [],
   "source": [
    "f  = open('practice.txt', 'w+')\n",
    "f.write('this is a test string')\n",
    "f.close()"
   ]
  },
  {
   "cell_type": "code",
   "execution_count": 23,
   "metadata": {},
   "outputs": [
    {
     "data": {
      "text/plain": [
       "'d:\\\\4th sem\\\\exam\\\\python\\\\Ad module'"
      ]
     },
     "execution_count": 23,
     "metadata": {},
     "output_type": "execute_result"
    }
   ],
   "source": [
    "import os \n",
    "os.getcwd()"
   ]
  },
  {
   "cell_type": "code",
   "execution_count": 24,
   "metadata": {},
   "outputs": [
    {
     "data": {
      "text/plain": [
       "['closing_opening_file.ipynb', 'collection_module.ipynb', 'practice.txt']"
      ]
     },
     "execution_count": 24,
     "metadata": {},
     "output_type": "execute_result"
    }
   ],
   "source": [
    "os.listdir()"
   ]
  },
  {
   "cell_type": "code",
   "execution_count": 25,
   "metadata": {},
   "outputs": [],
   "source": [
    "import shutil"
   ]
  },
  {
   "cell_type": "code",
   "execution_count": 26,
   "metadata": {},
   "outputs": [
    {
     "data": {
      "text/plain": [
       "'d:\\\\4th sem\\\\exam\\\\python\\\\practice.txt'"
      ]
     },
     "execution_count": 26,
     "metadata": {},
     "output_type": "execute_result"
    }
   ],
   "source": [
    "shutil.move('practice.txt','d:\\\\4th sem\\\\exam\\\\python' )"
   ]
  },
  {
   "cell_type": "code",
   "execution_count": 27,
   "metadata": {},
   "outputs": [
    {
     "data": {
      "text/plain": [
       "['Ad module',\n",
       " 'ans',\n",
       " 'basics',\n",
       " 'decorators and generator',\n",
       " 'game',\n",
       " 'modularity',\n",
       " 'oop in python',\n",
       " 'practice.txt']"
      ]
     },
     "execution_count": 27,
     "metadata": {},
     "output_type": "execute_result"
    }
   ],
   "source": [
    "os.listdir('d:\\\\4th sem\\\\exam\\\\python')"
   ]
  },
  {
   "cell_type": "code",
   "execution_count": 28,
   "metadata": {},
   "outputs": [
    {
     "data": {
      "text/plain": [
       "'d:\\\\4th sem\\\\exam\\\\python\\\\Ad module\\\\practice.txt'"
      ]
     },
     "execution_count": 28,
     "metadata": {},
     "output_type": "execute_result"
    }
   ],
   "source": [
    "shutil.move('d:\\\\4th sem\\\\exam\\\\python\\\\practice.txt', os.getcwd())"
   ]
  },
  {
   "cell_type": "code",
   "execution_count": 29,
   "metadata": {},
   "outputs": [
    {
     "data": {
      "text/plain": [
       "['closing_opening_file.ipynb', 'collection_module.ipynb', 'practice.txt']"
      ]
     },
     "execution_count": 29,
     "metadata": {},
     "output_type": "execute_result"
    }
   ],
   "source": [
    "import send2trash\n",
    "os.listdir()\n"
   ]
  },
  {
   "cell_type": "code",
   "execution_count": 30,
   "metadata": {},
   "outputs": [],
   "source": [
    "send2trash.send2trash('practice.txt')"
   ]
  },
  {
   "cell_type": "code",
   "execution_count": 31,
   "metadata": {},
   "outputs": [
    {
     "data": {
      "text/plain": [
       "['closing_opening_file.ipynb', 'collection_module.ipynb']"
      ]
     },
     "execution_count": 31,
     "metadata": {},
     "output_type": "execute_result"
    }
   ],
   "source": [
    "os.listdir()"
   ]
  },
  {
   "cell_type": "code",
   "execution_count": 34,
   "metadata": {},
   "outputs": [],
   "source": [
    "file_path = 'D:\\\\4th sem\\\\python bootcamp\\\\Complete-Python-3-Bootcamp-master\\\\12-Advanced Python Modules\\\\Example_Top_Level'"
   ]
  },
  {
   "cell_type": "code",
   "execution_count": 35,
   "metadata": {},
   "outputs": [
    {
     "name": "stdout",
     "output_type": "stream",
     "text": [
      "currently looking at D:\\4th sem\\python bootcamp\\Complete-Python-3-Bootcamp-master\\12-Advanced Python Modules\\Example_Top_Level\n",
      "\n",
      "the sub_dir are : \n",
      "subFOlder: Mid-Example-One\n",
      "\n",
      "\n",
      "the files are :\n",
      "file: Mid-Example.txt\n",
      "currently looking at D:\\4th sem\\python bootcamp\\Complete-Python-3-Bootcamp-master\\12-Advanced Python Modules\\Example_Top_Level\\Mid-Example-One\n",
      "\n",
      "the sub_dir are : \n",
      "subFOlder: Bottom-Level-One\n",
      "subFOlder: Bottom-Level-Two\n",
      "\n",
      "\n",
      "the files are :\n",
      "file: Mid-Level-Doc.txt\n",
      "currently looking at D:\\4th sem\\python bootcamp\\Complete-Python-3-Bootcamp-master\\12-Advanced Python Modules\\Example_Top_Level\\Mid-Example-One\\Bottom-Level-One\n",
      "\n",
      "the sub_dir are : \n",
      "\n",
      "\n",
      "the files are :\n",
      "file: One_Text.txt\n",
      "currently looking at D:\\4th sem\\python bootcamp\\Complete-Python-3-Bootcamp-master\\12-Advanced Python Modules\\Example_Top_Level\\Mid-Example-One\\Bottom-Level-Two\n",
      "\n",
      "the sub_dir are : \n",
      "\n",
      "\n",
      "the files are :\n",
      "file: Bottom-Text-Two.txt\n"
     ]
    }
   ],
   "source": [
    "for folder, sub_folder, files in os.walk(file_path):\n",
    "    print(f\"currently looking at {folder}\\n\")\n",
    "    print('the sub_dir are : ')\n",
    "    for sub_fold in sub_folder :\n",
    "        print(f\"subFOlder: {sub_fold}\")\n",
    "    print('\\n')\n",
    "    print(\"the files are :\")\n",
    "    for file in files : \n",
    "        print(f\"file: {file}\")"
   ]
  }
 ],
 "metadata": {
  "kernelspec": {
   "display_name": "Python 3",
   "language": "python",
   "name": "python3"
  },
  "language_info": {
   "codemirror_mode": {
    "name": "ipython",
    "version": 3
   },
   "file_extension": ".py",
   "mimetype": "text/x-python",
   "name": "python",
   "nbconvert_exporter": "python",
   "pygments_lexer": "ipython3",
   "version": "3.11.0"
  },
  "orig_nbformat": 4
 },
 "nbformat": 4,
 "nbformat_minor": 2
}
